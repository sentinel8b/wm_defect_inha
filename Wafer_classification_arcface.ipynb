{
 "cells": [
  {
   "cell_type": "markdown",
   "metadata": {
    "id": "nPDt2FJ45k0q"
   },
   "source": [
    "# Install and Import"
   ]
  },
  {
   "cell_type": "code",
   "execution_count": 1,
   "metadata": {
    "id": "453YYtb6ufP5"
   },
   "outputs": [
    {
     "name": "stdout",
     "output_type": "stream",
     "text": [
      "Defaulting to user installation because normal site-packages is not writeable\n",
      "Looking in indexes: https://pypi.org/simple, https://pypi.ngc.nvidia.com\n",
      "Requirement already satisfied: torchsummary in /shared/home/qlql323/.local/lib/python3.8/site-packages (1.5.1)\n"
     ]
    }
   ],
   "source": [
    "!pip install torchsummary"
   ]
  },
  {
   "cell_type": "code",
   "execution_count": 2,
   "metadata": {
    "_cell_guid": "b1076dfc-b9ad-4769-8c92-a6c4dae69d19",
    "_uuid": "8f2839f25d086af736a60e9eeb907d3b93b6e0e5",
    "id": "wOnDnULQkyJ7",
    "tags": []
   },
   "outputs": [],
   "source": [
    "# Load in our libraries\n",
    "import pandas as pd\n",
    "import numpy as np\n",
    "import sklearn\n",
    "import seaborn as sns\n",
    "import matplotlib.pyplot as plt\n",
    "from sklearn.model_selection import KFold\n",
    "from sklearn.model_selection import train_test_split\n",
    "from sklearn.metrics import confusion_matrix\n",
    "plt.style.use('seaborn')\n",
    "sns.set(font_scale=2) \n",
    "from tqdm import tqdm\n",
    "\n",
    "%matplotlib inline\n",
    "import torch\n",
    "import torchvision\n",
    "from PIL import Image\n",
    "import random\n",
    "import pickle\n",
    "\n",
    "\n",
    "from metrics import ArcMarginProduct\n",
    "from utils_arcface import EarlyStopping"
   ]
  },
  {
   "cell_type": "code",
   "execution_count": 3,
   "metadata": {
    "id": "r4iW4Y5z6ecC"
   },
   "outputs": [],
   "source": [
    "import torch\n",
    "import torch.nn as nn\n",
    "import torch.nn.functional as F\n",
    "from torch.utils.data import Dataset, DataLoader\n",
    "import math\n",
    "import torch.optim as optim\n",
    "import torch.nn.functional as F\n",
    "from torch.utils.data import Dataset, DataLoader\n",
    "import torchvision\n",
    "from torchvision import datasets, models, transforms\n",
    "import torchvision.transforms as T\n",
    "from torchsummary import summary"
   ]
  },
  {
   "cell_type": "code",
   "execution_count": 4,
   "metadata": {
    "id": "eKHQ9NMwwEGI"
   },
   "outputs": [],
   "source": [
    "random_seed = 629"
   ]
  },
  {
   "cell_type": "code",
   "execution_count": 5,
   "metadata": {
    "id": "PZ65PWJqwDeN"
   },
   "outputs": [],
   "source": [
    "torch.manual_seed(random_seed)\n",
    "torch.cuda.manual_seed(random_seed)\n",
    "torch.backends.cudnn.deterministic = True\n",
    "torch.backends.cudnn.benchmark = False\n",
    "np.random.seed(random_seed)\n",
    "random.seed(random_seed)"
   ]
  },
  {
   "cell_type": "markdown",
   "metadata": {
    "id": "4D_vhu4gAgDW"
   },
   "source": [
    "# Config"
   ]
  },
  {
   "cell_type": "code",
   "execution_count": 6,
   "metadata": {
    "id": "vlWk90A9Ah8X"
   },
   "outputs": [],
   "source": [
    "batch_size = 128\n",
    "device = torch.device('cuda' if torch.cuda.is_available() else 'cpu')\n",
    "lr = 1e-5\n",
    "epochs = 1000"
   ]
  },
  {
   "cell_type": "markdown",
   "metadata": {
    "id": "KCVGyshh5zjP"
   },
   "source": [
    "# Load data"
   ]
  },
  {
   "cell_type": "code",
   "execution_count": 7,
   "metadata": {
    "id": "H-ZM5hCh5nsM"
   },
   "outputs": [],
   "source": [
    "# with open('/content/drive/MyDrive/wafer/dataset/X_train.pickle', 'rb') as f:\n",
    "#     X_train = pickle.load(f)\n",
    "# with open('/content/drive/MyDrive/wafer/dataset/y_train.pickle', 'rb') as f:\n",
    "#     y_train = pickle.load(f)\n",
    "# with open('/content/drive/MyDrive/wafer/dataset/X_valid.pickle', 'rb') as f:\n",
    "#     X_valid = pickle.load(f)\n",
    "# with open('/content/drive/MyDrive/wafer/dataset/y_valid.pickle', 'rb') as f:\n",
    "#     y_valid = pickle.load(f)\n",
    "# with open('/content/drive/MyDrive/wafer/dataset/X_test.pickle', 'rb') as f:\n",
    "#     X_test = pickle.load(f)\n",
    "# with open('/content/drive/MyDrive/wafer/dataset/y_test.pickle', 'rb') as f:\n",
    "#     y_test = pickle.load(f)\n",
    "with open('data/wm_38_X_train.pickle', 'rb') as f:\n",
    "    X_train_38 = pickle.load(f)\n",
    "with open('data/wm_38_y_train.pickle', 'rb') as f:\n",
    "    y_train_38 = pickle.load(f)\n",
    "with open('data/wm_38_X_valid.pickle', 'rb') as f:\n",
    "    X_valid_38 = pickle.load(f)\n",
    "with open('data/wm_38_y_valid.pickle', 'rb') as f:\n",
    "    y_valid_38 = pickle.load(f)\n",
    "with open('data/wm_38_X_test.pickle', 'rb') as f:\n",
    "    X_test_38 = pickle.load(f)\n",
    "with open('data/wm_38_y_test.pickle', 'rb') as f:\n",
    "    y_test_38 = pickle.load(f)"
   ]
  },
  {
   "cell_type": "code",
   "execution_count": 8,
   "metadata": {
    "id": "MtFJwvJipr_t"
   },
   "outputs": [
    {
     "data": {
      "text/plain": [
       "(array([0, 1, 2, 3, 4, 5, 6, 7, 8]),\n",
       " array([600, 600, 600, 600, 600,  89, 600, 519, 600]))"
      ]
     },
     "execution_count": 8,
     "metadata": {},
     "output_type": "execute_result"
    }
   ],
   "source": [
    "np.unique(y_train_38, return_counts = True)     "
   ]
  },
  {
   "cell_type": "code",
   "execution_count": 9,
   "metadata": {
    "id": "S12mI7lTJ2h-"
   },
   "outputs": [],
   "source": [
    "# X_train = X_train.unsqueeze(1)\n",
    "# X_valid = X_valid.unsqueeze(1)\n",
    "# X_test = X_test.unsqueeze(1)\n",
    "X_train_38 = X_train_38.unsqueeze(1)\n",
    "X_valid_38 = X_valid_38.unsqueeze(1)\n",
    "X_test_38 = X_test_38.unsqueeze(1)"
   ]
  },
  {
   "cell_type": "code",
   "execution_count": 10,
   "metadata": {
    "id": "B4WkKPhNdCTd"
   },
   "outputs": [],
   "source": [
    "# y_train = torch.Tensor(y_train).type(torch.int64)\n",
    "# y_valid = torch.Tensor(y_valid).type(torch.int64)\n",
    "# y_test = torch.Tensor(y_test).type(torch.int64)\n",
    "y_train = torch.Tensor(y_train_38).type(torch.int64)\n",
    "y_valid = torch.Tensor(y_valid_38).type(torch.int64)\n",
    "y_test= torch.Tensor(y_test_38).type(torch.int64)"
   ]
  },
  {
   "cell_type": "code",
   "execution_count": 11,
   "metadata": {
    "id": "4jNay-vyoMti"
   },
   "outputs": [],
   "source": [
    "# X_train = torch.concat([X_train, X_train_38], axis = 0)\n",
    "# X_valid = torch.concat([X_valid, X_valid_38], axis = 0)\n",
    "# X_test = torch.concat([X_test,X_test_38], axis = 0)\n",
    "\n",
    "# y_train = torch.concat([y_train, y_train_38], axis = 0)\n",
    "# y_valid = torch.concat([y_valid, y_valid_38], axis = 0)\n",
    "# y_test = torch.concat([y_test, y_test_38], axis = 0)"
   ]
  },
  {
   "cell_type": "code",
   "execution_count": 12,
   "metadata": {
    "id": "ciaYCBHOGFlI"
   },
   "outputs": [],
   "source": [
    "X_train = torch.where(X_train_38 == 2.0, 2.0, 0.0)\n",
    "X_valid = torch.where(X_valid_38 == 2.0, 2.0, 0.0)\n",
    "X_test = torch.where(X_test_38 == 2.0, 2.0, 0.0)\n",
    "\n",
    "# X_train = torch.where(X_train == 2.0, 2.0, 0.0)\n",
    "# X_valid = torch.where(X_valid == 2.0, 2.0, 0.0)\n",
    "# X_test = torch.where(X_test == 2.0, 2.0, 0.0)"
   ]
  },
  {
   "cell_type": "code",
   "execution_count": 13,
   "metadata": {
    "id": "_CYmrzbXHpTB"
   },
   "outputs": [],
   "source": [
    "# def _to_one_hot(y, num_classes):\n",
    "#     scatter_dim = len(y.size())\n",
    "#     y_tensor = y.view(*y.size(), -1)\n",
    "#     zeros = torch.zeros(*y.size(), num_classes, dtype=y.dtype)\n",
    "#     return zeros.scatter(scatter_dim, y_tensor, 1)\n",
    "# y_train = _to_one_hot(y_train_38, 9)\n",
    "# y_valid = _to_one_hot(y_valid_38, 9)\n",
    "# y_test = _to_one_hot(y_test_38, 9)\n",
    "\n",
    "# y_train = _to_one_hot(y_train, 9)\n",
    "# y_valid = _to_one_hot(y_valid, 9)\n",
    "# y_test = _to_one_hot(y_test, 9)"
   ]
  },
  {
   "cell_type": "code",
   "execution_count": 14,
   "metadata": {
    "id": "wvIXKMkWyraE"
   },
   "outputs": [],
   "source": [
    "preprocess = T.Compose([\n",
    "   T.RandomHorizontalFlip(0.3),\n",
    "   T.RandomVerticalFlip(0.3) \n",
    "])"
   ]
  },
  {
   "cell_type": "code",
   "execution_count": 15,
   "metadata": {
    "id": "2EhRgRX8yW2k"
   },
   "outputs": [],
   "source": [
    "class WaferSet(Dataset):\n",
    "    def __init__(self, X, y, transform):\n",
    "        self.X = X\n",
    "        self.y = y\n",
    "        self.transformer = transform\n",
    "\n",
    "    def __getitem__(self, idx):\n",
    "        X = self.X[idx]\n",
    "        X = self.transformer(X)\n",
    "        y = self.y[idx]\n",
    "        return X, y\n",
    "\n",
    "    def __len__(self):\n",
    "        return len(self.X)"
   ]
  },
  {
   "cell_type": "code",
   "execution_count": 16,
   "metadata": {
    "id": "RDByjFPb6DJS"
   },
   "outputs": [],
   "source": [
    "train_dataset = WaferSet(X_train, y_train, preprocess)\n",
    "valid_dataset = torch.utils.data.TensorDataset(X_valid, y_valid)\n",
    "test_dataset = torch.utils.data.TensorDataset(X_test, y_test)"
   ]
  },
  {
   "cell_type": "code",
   "execution_count": 17,
   "metadata": {
    "id": "F0y3FVhr9lCW"
   },
   "outputs": [],
   "source": [
    "train_loader = DataLoader(train_dataset, batch_size = batch_size, shuffle = True, num_workers = 4, pin_memory = True)\n",
    "valid_loader = DataLoader(valid_dataset, batch_size = batch_size, shuffle = False, num_workers = 4, pin_memory = True)\n",
    "test_loader = DataLoader(test_dataset, batch_size = batch_size, shuffle = False, num_workers = 4, pin_memory = True)"
   ]
  },
  {
   "cell_type": "markdown",
   "metadata": {
    "id": "Md9Ai_8DA0G7"
   },
   "source": [
    "# Model"
   ]
  },
  {
   "cell_type": "code",
   "execution_count": 130,
   "metadata": {
    "id": "HNiCxkuHAl26"
   },
   "outputs": [],
   "source": [
    "class base_line(nn.Module):\n",
    "    def __init__(self):\n",
    "        super(base_line, self).__init__()\n",
    "        \n",
    "        self.fc1 = nn.Linear(256, 128, bias=True) # fully connected, \n",
    "        self.fc2 = nn.Linear(128, 128, bias = True)\n",
    "        self.fc3 = nn.Linear(128, 9, bias=True) #오류패턴 9개로 출력 9\n",
    "        self.tanh = nn.Tanh()\n",
    "        self.dropout = nn.Dropout(0.1)\n",
    "        \n",
    "        self.layer1 =nn.Sequential(\n",
    "            nn.Conv2d(1, 32, kernel_size=3, stride=2, padding = 1),#1번째 conv layer : 입력 층 3, 출력 32, Relu, Poolling으로 MAX 직용.\n",
    "            nn.ReLU(),\n",
    "            nn.MaxPool2d(kernel_size=2, stride=2, padding = 0))\n",
    "\n",
    "    \n",
    "        self.layer2 = nn.Sequential(\n",
    "            nn.Conv2d(32, 64, kernel_size=3, stride=1, padding = 1), #2번째 conv layer : 입력 층 32, 출력 64, Relu, Poolling으로 MAX 직용.\n",
    "            nn.ReLU(),\n",
    "            nn.MaxPool2d(kernel_size=2, stride=2, padding = 0))\n",
    "        \n",
    "\n",
    "        self.layer3 = nn.Sequential(\n",
    "            nn.Conv2d(64, 64, kernel_size=3, stride=1, padding = 1), #3번째 conv layer : 입력 층 64, 출력 128, Relu, Polling으로 Max 적용.\n",
    "            nn.ReLU(),\n",
    "            nn.MaxPool2d(kernel_size=2, stride=2, padding = 0))\n",
    "        \n",
    "        self.layer4 = nn.Sequential(\n",
    "            nn.Conv2d(64, 32, kernel_size=3, stride=2, padding = 3), #3번째 conv layer : 입력 층 64, 출력 128, Relu, Polling으로 Max 적용.\n",
    "            nn.ReLU(),\n",
    "            nn.MaxPool2d(kernel_size=2, stride=2, padding = 0))\n",
    "        self.layer5 = nn.Sequential(\n",
    "            self.dropout,\n",
    "            self.fc1,\n",
    "            self.tanh,\n",
    "            self.dropout,\n",
    "            self.fc2,\n",
    "            self.tanh\n",
    "        )\n",
    "        self.global_avg_pool = nn.AvgPool2d(kernel_size = 2,stride = 1, padding=0)\n",
    " \n",
    "\n",
    "        \n",
    "    # def printout(self, x):\n",
    "    #     out = self.layer1(x)\n",
    "    #     print(out)\n",
    "    #     out = self.layer2(out)\n",
    "    #     print(out)\n",
    "    #     out = self.layer3(out)\n",
    "    #     print(out)\n",
    "    #     out = self.layer4(out)\n",
    "    #     print(out)\n",
    "    #     out = self.global_avg_pool(out)\n",
    "    #     out = self.layer5(out)\n",
    "    #     print(out)\n",
    "    #     out = self.fc3(out)\n",
    "\n",
    "    def forward(self, x):\n",
    "        out = self.layer1(x)\n",
    "        out = self.layer2(out)\n",
    "        out = self.layer3(out)\n",
    "        out = self.layer4(out)\n",
    "        out = self.global_avg_pool(out)   # fully conntect를위해 flatten을 함.\n",
    "        out = out.view(-1, 32)\n",
    "        # out = self.layer5(out)\n",
    "        return out    \n",
    "\n",
    "base_line = base_line().to(device)"
   ]
  },
  {
   "cell_type": "markdown",
   "metadata": {
    "id": "iGxGo97wCU2x"
   },
   "source": [
    "# Train"
   ]
  },
  {
   "cell_type": "code",
   "execution_count": 131,
   "metadata": {
    "id": "86fD9FdldAYi"
   },
   "outputs": [
    {
     "data": {
      "text/plain": [
       "ArcMarginProduct()"
      ]
     },
     "execution_count": 131,
     "metadata": {},
     "output_type": "execute_result"
    }
   ],
   "source": [
    "metric_fc = ArcMarginProduct(32, 9, s=32, m=0.5, easy_margin=False).to(device)\n",
    "metric_fc"
   ]
  },
  {
   "cell_type": "code",
   "execution_count": 132,
   "metadata": {
    "id": "hPfXu6DPCsTh"
   },
   "outputs": [],
   "source": [
    "criterion = torch.nn.CrossEntropyLoss().to(device) # 비용 함수에 소프트맥스 함수 포함되어져 있음.\n",
    "optimizer = torch.optim.AdamW([{'params': base_line.parameters()}, {'params': metric_fc.parameters()}], lr=0.0001, betas=(0.9, 0.999), eps=1e-08, weight_decay=0.01, amsgrad=False)\n",
    "# optimizer = torch.optim.AdamW(base_line.parameters(), lr=lr)"
   ]
  },
  {
   "cell_type": "code",
   "execution_count": 133,
   "metadata": {
    "id": "iHU6-cZu7DDf"
   },
   "outputs": [],
   "source": [
    "def train_epoch(model, dataloader,loss_fn,optimizer):\n",
    "    train_loss,train_correct=0.0,0\n",
    "    model.train()\n",
    "    for images, labels in dataloader:\n",
    "        images = images.float().to(device)\n",
    "        labels = labels.to(device)\n",
    "        # labels = labels.float().reshape(images.size(0), 9).to(device)\n",
    "        optimizer.zero_grad()\n",
    "        embeded = model(images)\n",
    "        output = metric_fc(embeded,labels)\n",
    "        loss = loss_fn(output, labels)\n",
    "        loss.backward()\n",
    "        optimizer.step()\n",
    "        train_loss += loss.item() * images.size(0)\n",
    "        predictions = torch.argmax(output, 1)\n",
    "        # labels = torch.argmax(labels, dim=1).float()\n",
    "        train_correct += (predictions == labels).sum().item()\n",
    "    return train_loss,train_correct\n",
    "  \n",
    "def valid_epoch(model,dataloader,loss_fn):\n",
    "    valid_loss, val_correct = 0.0, 0\n",
    "    model.eval()\n",
    "    for images, labels in dataloader:\n",
    "        images = images.float().to(device)\n",
    "        labels = labels.to(device)\n",
    "        # labels = labels.float().reshape(images.size(0), 9).to(device)\n",
    "        embeded = model(images)\n",
    "        output = metric_fc(embeded, labels)\n",
    "        loss=loss_fn(output,labels)\n",
    "        valid_loss+=loss.item() * images.size(0)\n",
    "        # labels = torch.argmax(labels, dim=1).float()\n",
    "        predictions = torch.argmax(output, 1)\n",
    "        val_correct+=(predictions == labels).sum().item()\n",
    "    return valid_loss,val_correct"
   ]
  },
  {
   "cell_type": "code",
   "execution_count": 134,
   "metadata": {
    "collapsed": true,
    "id": "tFzk2jkqHJI1",
    "jupyter": {
     "outputs_hidden": true
    },
    "tags": []
   },
   "outputs": [
    {
     "name": "stdout",
     "output_type": "stream",
     "text": [
      "Epoch:1/1000 AVG Training Loss:17.311 AVG Test Loss:15.883 AVG Training Acc 0.00 % AVG Test Acc 0.00 %\n",
      "Validation loss decreased (0.000000 --> -0.000000).  Saving model ...\n",
      "Epoch:2/1000 AVG Training Loss:15.272 AVG Test Loss:14.682 AVG Training Acc 0.00 % AVG Test Acc 0.00 %\n",
      "Validation loss decreased (-0.000000 --> -0.000000).  Saving model ...\n",
      "Epoch:3/1000 AVG Training Loss:14.158 AVG Test Loss:13.658 AVG Training Acc 1.19 % AVG Test Acc 6.49 %\n",
      "Validation loss decreased (-0.000000 --> -6.494588).  Saving model ...\n",
      "Epoch:4/1000 AVG Training Loss:13.249 AVG Test Loss:12.776 AVG Training Acc 8.32 % AVG Test Acc 9.74 %\n",
      "Validation loss decreased (-6.494588 --> -9.741882).  Saving model ...\n",
      "Epoch:5/1000 AVG Training Loss:12.168 AVG Test Loss:11.432 AVG Training Acc 10.25 % AVG Test Acc 11.91 %\n",
      "Validation loss decreased (-9.741882 --> -11.906744).  Saving model ...\n",
      "Epoch:6/1000 AVG Training Loss:10.983 AVG Test Loss:10.257 AVG Training Acc 15.02 % AVG Test Acc 18.65 %\n",
      "Validation loss decreased (-11.906744 --> -18.651124).  Saving model ...\n",
      "Epoch:7/1000 AVG Training Loss:9.960 AVG Test Loss:9.302 AVG Training Acc 17.49 % AVG Test Acc 19.48 %\n",
      "Validation loss decreased (-18.651124 --> -19.483764).  Saving model ...\n",
      "Epoch:8/1000 AVG Training Loss:9.009 AVG Test Loss:8.503 AVG Training Acc 20.07 % AVG Test Acc 21.57 %\n",
      "Validation loss decreased (-19.483764 --> -21.565362).  Saving model ...\n",
      "Epoch:9/1000 AVG Training Loss:8.162 AVG Test Loss:7.769 AVG Training Acc 23.02 % AVG Test Acc 28.14 %\n",
      "Validation loss decreased (-21.565362 --> -28.143214).  Saving model ...\n",
      "Epoch:10/1000 AVG Training Loss:7.416 AVG Test Loss:6.945 AVG Training Acc 27.29 % AVG Test Acc 30.47 %\n",
      "Validation loss decreased (-28.143214 --> -30.474604).  Saving model ...\n",
      "Epoch:11/1000 AVG Training Loss:6.767 AVG Test Loss:6.204 AVG Training Acc 29.76 % AVG Test Acc 31.22 %\n",
      "Validation loss decreased (-30.474604 --> -31.223980).  Saving model ...\n",
      "Epoch:12/1000 AVG Training Loss:6.148 AVG Test Loss:5.777 AVG Training Acc 35.23 % AVG Test Acc 33.22 %\n",
      "Validation loss decreased (-31.223980 --> -33.222315).  Saving model ...\n",
      "Epoch:13/1000 AVG Training Loss:5.539 AVG Test Loss:5.234 AVG Training Acc 39.73 % AVG Test Acc 42.46 %\n",
      "Validation loss decreased (-33.222315 --> -42.464613).  Saving model ...\n",
      "Epoch:14/1000 AVG Training Loss:5.053 AVG Test Loss:4.631 AVG Training Acc 43.24 % AVG Test Acc 45.71 %\n",
      "Validation loss decreased (-42.464613 --> -45.711907).  Saving model ...\n",
      "Epoch:15/1000 AVG Training Loss:4.601 AVG Test Loss:4.326 AVG Training Acc 46.30 % AVG Test Acc 47.54 %\n",
      "Validation loss decreased (-45.711907 --> -47.543714).  Saving model ...\n",
      "Epoch:16/1000 AVG Training Loss:4.296 AVG Test Loss:4.084 AVG Training Acc 49.50 % AVG Test Acc 48.96 %\n",
      "Validation loss decreased (-47.543714 --> -48.959201).  Saving model ...\n",
      "Epoch:17/1000 AVG Training Loss:4.015 AVG Test Loss:3.759 AVG Training Acc 51.75 % AVG Test Acc 54.95 %\n",
      "Validation loss decreased (-48.959201 --> -54.954205).  Saving model ...\n",
      "Epoch:18/1000 AVG Training Loss:3.695 AVG Test Loss:3.515 AVG Training Acc 54.85 % AVG Test Acc 56.29 %\n",
      "Validation loss decreased (-54.954205 --> -56.286428).  Saving model ...\n",
      "Epoch:19/1000 AVG Training Loss:3.374 AVG Test Loss:3.302 AVG Training Acc 56.32 % AVG Test Acc 59.12 %\n",
      "Validation loss decreased (-56.286428 --> -59.117402).  Saving model ...\n",
      "Epoch:20/1000 AVG Training Loss:3.162 AVG Test Loss:3.135 AVG Training Acc 58.86 % AVG Test Acc 58.87 %\n",
      "EarlyStopping counter: 1 out of 20\n",
      "Epoch:21/1000 AVG Training Loss:3.035 AVG Test Loss:2.956 AVG Training Acc 60.07 % AVG Test Acc 60.87 %\n",
      "Validation loss decreased (-59.117402 --> -60.865945).  Saving model ...\n",
      "Epoch:22/1000 AVG Training Loss:2.814 AVG Test Loss:2.859 AVG Training Acc 61.54 % AVG Test Acc 59.87 %\n",
      "EarlyStopping counter: 1 out of 20\n",
      "Epoch:23/1000 AVG Training Loss:2.689 AVG Test Loss:2.680 AVG Training Acc 64.31 % AVG Test Acc 63.53 %\n",
      "Validation loss decreased (-60.865945 --> -63.530391).  Saving model ...\n",
      "Epoch:24/1000 AVG Training Loss:2.482 AVG Test Loss:2.587 AVG Training Acc 65.18 % AVG Test Acc 65.03 %\n",
      "Validation loss decreased (-63.530391 --> -65.029142).  Saving model ...\n",
      "Epoch:25/1000 AVG Training Loss:2.370 AVG Test Loss:2.435 AVG Training Acc 67.20 % AVG Test Acc 65.20 %\n",
      "Validation loss decreased (-65.029142 --> -65.195670).  Saving model ...\n",
      "Epoch:26/1000 AVG Training Loss:2.239 AVG Test Loss:2.427 AVG Training Acc 68.24 % AVG Test Acc 63.36 %\n",
      "EarlyStopping counter: 1 out of 20\n",
      "Epoch:27/1000 AVG Training Loss:2.156 AVG Test Loss:2.243 AVG Training Acc 69.30 % AVG Test Acc 69.69 %\n",
      "Validation loss decreased (-65.195670 --> -69.691923).  Saving model ...\n",
      "Epoch:28/1000 AVG Training Loss:2.001 AVG Test Loss:2.082 AVG Training Acc 70.47 % AVG Test Acc 71.77 %\n",
      "Validation loss decreased (-69.691923 --> -71.773522).  Saving model ...\n",
      "Epoch:29/1000 AVG Training Loss:1.909 AVG Test Loss:2.075 AVG Training Acc 71.88 % AVG Test Acc 68.44 %\n",
      "EarlyStopping counter: 1 out of 20\n",
      "Epoch:30/1000 AVG Training Loss:1.752 AVG Test Loss:1.975 AVG Training Acc 72.84 % AVG Test Acc 69.11 %\n",
      "EarlyStopping counter: 2 out of 20\n",
      "Epoch:31/1000 AVG Training Loss:1.694 AVG Test Loss:1.869 AVG Training Acc 74.21 % AVG Test Acc 72.52 %\n",
      "Validation loss decreased (-71.773522 --> -72.522898).  Saving model ...\n",
      "Epoch:32/1000 AVG Training Loss:1.604 AVG Test Loss:1.810 AVG Training Acc 74.00 % AVG Test Acc 72.52 %\n",
      "Validation loss decreased (-72.522898 --> -72.522898).  Saving model ...\n",
      "Epoch:33/1000 AVG Training Loss:1.542 AVG Test Loss:1.811 AVG Training Acc 75.69 % AVG Test Acc 69.86 %\n",
      "EarlyStopping counter: 1 out of 20\n",
      "Epoch:34/1000 AVG Training Loss:1.513 AVG Test Loss:1.673 AVG Training Acc 76.66 % AVG Test Acc 73.44 %\n",
      "Validation loss decreased (-72.522898 --> -73.438801).  Saving model ...\n",
      "Epoch:35/1000 AVG Training Loss:1.411 AVG Test Loss:1.625 AVG Training Acc 77.75 % AVG Test Acc 75.44 %\n",
      "Validation loss decreased (-73.438801 --> -75.437136).  Saving model ...\n",
      "Epoch:36/1000 AVG Training Loss:1.318 AVG Test Loss:1.569 AVG Training Acc 79.16 % AVG Test Acc 74.77 %\n",
      "EarlyStopping counter: 1 out of 20\n",
      "Epoch:37/1000 AVG Training Loss:1.282 AVG Test Loss:1.677 AVG Training Acc 79.41 % AVG Test Acc 75.85 %\n",
      "Validation loss decreased (-75.437136 --> -75.853455).  Saving model ...\n",
      "Epoch:38/1000 AVG Training Loss:1.178 AVG Test Loss:1.474 AVG Training Acc 81.24 % AVG Test Acc 75.44 %\n",
      "EarlyStopping counter: 1 out of 20\n",
      "Epoch:39/1000 AVG Training Loss:1.096 AVG Test Loss:1.371 AVG Training Acc 82.22 % AVG Test Acc 78.18 %\n",
      "Validation loss decreased (-75.853455 --> -78.184846).  Saving model ...\n",
      "Epoch:40/1000 AVG Training Loss:1.054 AVG Test Loss:1.411 AVG Training Acc 82.40 % AVG Test Acc 78.10 %\n",
      "EarlyStopping counter: 1 out of 20\n",
      "Epoch:41/1000 AVG Training Loss:0.991 AVG Test Loss:1.347 AVG Training Acc 83.47 % AVG Test Acc 78.10 %\n",
      "EarlyStopping counter: 2 out of 20\n",
      "Epoch:42/1000 AVG Training Loss:0.957 AVG Test Loss:1.262 AVG Training Acc 84.63 % AVG Test Acc 79.77 %\n",
      "Validation loss decreased (-78.184846 --> -79.766861).  Saving model ...\n",
      "Epoch:43/1000 AVG Training Loss:0.940 AVG Test Loss:1.352 AVG Training Acc 85.05 % AVG Test Acc 79.85 %\n",
      "Validation loss decreased (-79.766861 --> -79.850125).  Saving model ...\n",
      "Epoch:44/1000 AVG Training Loss:0.907 AVG Test Loss:1.203 AVG Training Acc 85.54 % AVG Test Acc 81.35 %\n",
      "Validation loss decreased (-79.850125 --> -81.348876).  Saving model ...\n",
      "Epoch:45/1000 AVG Training Loss:0.794 AVG Test Loss:1.190 AVG Training Acc 86.36 % AVG Test Acc 78.77 %\n",
      "EarlyStopping counter: 1 out of 20\n",
      "Epoch:46/1000 AVG Training Loss:0.803 AVG Test Loss:1.172 AVG Training Acc 86.79 % AVG Test Acc 80.43 %\n",
      "EarlyStopping counter: 2 out of 20\n",
      "Epoch:47/1000 AVG Training Loss:0.738 AVG Test Loss:1.092 AVG Training Acc 87.54 % AVG Test Acc 83.18 %\n",
      "Validation loss decreased (-81.348876 --> -83.180683).  Saving model ...\n",
      "Epoch:48/1000 AVG Training Loss:0.763 AVG Test Loss:1.090 AVG Training Acc 87.60 % AVG Test Acc 80.68 %\n",
      "EarlyStopping counter: 1 out of 20\n",
      "Epoch:49/1000 AVG Training Loss:0.684 AVG Test Loss:1.035 AVG Training Acc 89.68 % AVG Test Acc 82.51 %\n",
      "EarlyStopping counter: 2 out of 20\n",
      "Epoch:50/1000 AVG Training Loss:0.656 AVG Test Loss:1.056 AVG Training Acc 88.98 % AVG Test Acc 81.68 %\n",
      "EarlyStopping counter: 3 out of 20\n",
      "Epoch:51/1000 AVG Training Loss:0.638 AVG Test Loss:1.096 AVG Training Acc 89.29 % AVG Test Acc 82.76 %\n",
      "EarlyStopping counter: 4 out of 20\n",
      "Epoch:52/1000 AVG Training Loss:0.612 AVG Test Loss:1.019 AVG Training Acc 90.52 % AVG Test Acc 82.93 %\n",
      "EarlyStopping counter: 5 out of 20\n",
      "Epoch:53/1000 AVG Training Loss:0.605 AVG Test Loss:1.070 AVG Training Acc 90.33 % AVG Test Acc 82.68 %\n",
      "EarlyStopping counter: 6 out of 20\n",
      "Epoch:54/1000 AVG Training Loss:0.569 AVG Test Loss:1.035 AVG Training Acc 91.41 % AVG Test Acc 83.18 %\n",
      "Validation loss decreased (-83.180683 --> -83.180683).  Saving model ...\n",
      "Epoch:55/1000 AVG Training Loss:0.538 AVG Test Loss:0.923 AVG Training Acc 91.16 % AVG Test Acc 85.35 %\n",
      "Validation loss decreased (-83.180683 --> -85.345545).  Saving model ...\n",
      "Epoch:56/1000 AVG Training Loss:0.496 AVG Test Loss:1.014 AVG Training Acc 91.97 % AVG Test Acc 83.76 %\n",
      "EarlyStopping counter: 1 out of 20\n",
      "Epoch:57/1000 AVG Training Loss:0.541 AVG Test Loss:0.949 AVG Training Acc 92.10 % AVG Test Acc 84.68 %\n",
      "EarlyStopping counter: 2 out of 20\n",
      "Epoch:58/1000 AVG Training Loss:0.486 AVG Test Loss:0.889 AVG Training Acc 93.18 % AVG Test Acc 85.26 %\n",
      "EarlyStopping counter: 3 out of 20\n",
      "Epoch:59/1000 AVG Training Loss:0.555 AVG Test Loss:0.856 AVG Training Acc 91.70 % AVG Test Acc 85.01 %\n",
      "EarlyStopping counter: 4 out of 20\n",
      "Epoch:60/1000 AVG Training Loss:0.468 AVG Test Loss:0.848 AVG Training Acc 92.87 % AVG Test Acc 86.26 %\n",
      "Validation loss decreased (-85.345545 --> -86.261449).  Saving model ...\n",
      "Epoch:61/1000 AVG Training Loss:0.435 AVG Test Loss:0.834 AVG Training Acc 93.66 % AVG Test Acc 86.68 %\n",
      "Validation loss decreased (-86.261449 --> -86.677769).  Saving model ...\n",
      "Epoch:62/1000 AVG Training Loss:0.497 AVG Test Loss:0.807 AVG Training Acc 92.85 % AVG Test Acc 85.76 %\n",
      "EarlyStopping counter: 1 out of 20\n",
      "Epoch:63/1000 AVG Training Loss:0.436 AVG Test Loss:0.882 AVG Training Acc 93.57 % AVG Test Acc 85.68 %\n",
      "EarlyStopping counter: 2 out of 20\n",
      "Epoch:64/1000 AVG Training Loss:0.487 AVG Test Loss:0.754 AVG Training Acc 93.05 % AVG Test Acc 87.59 %\n",
      "Validation loss decreased (-86.677769 --> -87.593672).  Saving model ...\n",
      "Epoch:65/1000 AVG Training Loss:0.400 AVG Test Loss:0.855 AVG Training Acc 93.99 % AVG Test Acc 86.26 %\n",
      "EarlyStopping counter: 1 out of 20\n",
      "Epoch:66/1000 AVG Training Loss:0.399 AVG Test Loss:0.749 AVG Training Acc 94.38 % AVG Test Acc 87.34 %\n",
      "EarlyStopping counter: 2 out of 20\n",
      "Epoch:67/1000 AVG Training Loss:0.335 AVG Test Loss:0.759 AVG Training Acc 95.34 % AVG Test Acc 87.93 %\n",
      "Validation loss decreased (-87.593672 --> -87.926728).  Saving model ...\n",
      "Epoch:68/1000 AVG Training Loss:0.361 AVG Test Loss:0.759 AVG Training Acc 94.95 % AVG Test Acc 87.09 %\n",
      "EarlyStopping counter: 1 out of 20\n",
      "Epoch:69/1000 AVG Training Loss:0.358 AVG Test Loss:0.759 AVG Training Acc 94.97 % AVG Test Acc 86.76 %\n",
      "EarlyStopping counter: 2 out of 20\n",
      "Epoch:70/1000 AVG Training Loss:0.352 AVG Test Loss:0.689 AVG Training Acc 95.09 % AVG Test Acc 88.59 %\n",
      "Validation loss decreased (-87.926728 --> -88.592839).  Saving model ...\n",
      "Epoch:71/1000 AVG Training Loss:0.308 AVG Test Loss:0.773 AVG Training Acc 95.90 % AVG Test Acc 86.93 %\n",
      "EarlyStopping counter: 1 out of 20\n",
      "Epoch:72/1000 AVG Training Loss:0.343 AVG Test Loss:0.710 AVG Training Acc 94.74 % AVG Test Acc 88.43 %\n",
      "EarlyStopping counter: 2 out of 20\n",
      "Epoch:73/1000 AVG Training Loss:0.334 AVG Test Loss:0.652 AVG Training Acc 95.13 % AVG Test Acc 89.26 %\n",
      "Validation loss decreased (-88.592839 --> -89.258951).  Saving model ...\n",
      "Epoch:74/1000 AVG Training Loss:0.296 AVG Test Loss:0.680 AVG Training Acc 96.03 % AVG Test Acc 88.76 %\n",
      "EarlyStopping counter: 1 out of 20\n",
      "Epoch:75/1000 AVG Training Loss:0.279 AVG Test Loss:0.741 AVG Training Acc 95.88 % AVG Test Acc 87.93 %\n",
      "EarlyStopping counter: 2 out of 20\n",
      "Epoch:76/1000 AVG Training Loss:0.311 AVG Test Loss:0.641 AVG Training Acc 95.82 % AVG Test Acc 89.84 %\n",
      "Validation loss decreased (-89.258951 --> -89.841799).  Saving model ...\n",
      "Epoch:77/1000 AVG Training Loss:0.280 AVG Test Loss:0.708 AVG Training Acc 96.26 % AVG Test Acc 88.84 %\n",
      "EarlyStopping counter: 1 out of 20\n",
      "Epoch:78/1000 AVG Training Loss:0.257 AVG Test Loss:0.636 AVG Training Acc 96.36 % AVG Test Acc 90.09 %\n",
      "Validation loss decreased (-89.841799 --> -90.091590).  Saving model ...\n",
      "Epoch:79/1000 AVG Training Loss:0.287 AVG Test Loss:0.761 AVG Training Acc 95.82 % AVG Test Acc 88.43 %\n",
      "EarlyStopping counter: 1 out of 20\n",
      "Epoch:80/1000 AVG Training Loss:0.293 AVG Test Loss:0.678 AVG Training Acc 95.76 % AVG Test Acc 89.43 %\n",
      "EarlyStopping counter: 2 out of 20\n",
      "Epoch:81/1000 AVG Training Loss:0.229 AVG Test Loss:0.572 AVG Training Acc 96.51 % AVG Test Acc 91.26 %\n",
      "Validation loss decreased (-90.091590 --> -91.257286).  Saving model ...\n",
      "Epoch:82/1000 AVG Training Loss:0.272 AVG Test Loss:0.556 AVG Training Acc 96.24 % AVG Test Acc 90.84 %\n",
      "EarlyStopping counter: 1 out of 20\n",
      "Epoch:83/1000 AVG Training Loss:0.219 AVG Test Loss:0.606 AVG Training Acc 97.13 % AVG Test Acc 90.59 %\n",
      "EarlyStopping counter: 2 out of 20\n",
      "Epoch:84/1000 AVG Training Loss:0.248 AVG Test Loss:0.597 AVG Training Acc 96.63 % AVG Test Acc 90.51 %\n",
      "EarlyStopping counter: 3 out of 20\n",
      "Epoch:85/1000 AVG Training Loss:0.226 AVG Test Loss:0.663 AVG Training Acc 96.90 % AVG Test Acc 89.09 %\n",
      "EarlyStopping counter: 4 out of 20\n",
      "Epoch:86/1000 AVG Training Loss:0.249 AVG Test Loss:0.605 AVG Training Acc 96.84 % AVG Test Acc 90.84 %\n",
      "EarlyStopping counter: 5 out of 20\n",
      "Epoch:87/1000 AVG Training Loss:0.225 AVG Test Loss:0.718 AVG Training Acc 97.21 % AVG Test Acc 89.51 %\n",
      "EarlyStopping counter: 6 out of 20\n",
      "Epoch:88/1000 AVG Training Loss:0.239 AVG Test Loss:0.614 AVG Training Acc 96.19 % AVG Test Acc 90.92 %\n",
      "EarlyStopping counter: 7 out of 20\n",
      "Epoch:89/1000 AVG Training Loss:0.229 AVG Test Loss:0.552 AVG Training Acc 97.11 % AVG Test Acc 91.26 %\n",
      "Validation loss decreased (-91.257286 --> -91.257286).  Saving model ...\n",
      "Epoch:90/1000 AVG Training Loss:0.191 AVG Test Loss:0.600 AVG Training Acc 97.48 % AVG Test Acc 90.26 %\n",
      "EarlyStopping counter: 1 out of 20\n",
      "Epoch:91/1000 AVG Training Loss:0.218 AVG Test Loss:0.581 AVG Training Acc 97.19 % AVG Test Acc 91.09 %\n",
      "EarlyStopping counter: 2 out of 20\n",
      "Epoch:92/1000 AVG Training Loss:0.215 AVG Test Loss:0.678 AVG Training Acc 97.11 % AVG Test Acc 90.01 %\n",
      "EarlyStopping counter: 3 out of 20\n",
      "Epoch:93/1000 AVG Training Loss:0.183 AVG Test Loss:0.634 AVG Training Acc 97.65 % AVG Test Acc 90.01 %\n",
      "EarlyStopping counter: 4 out of 20\n",
      "Epoch:94/1000 AVG Training Loss:0.161 AVG Test Loss:0.583 AVG Training Acc 97.75 % AVG Test Acc 91.42 %\n",
      "Validation loss decreased (-91.257286 --> -91.423813).  Saving model ...\n",
      "Epoch:95/1000 AVG Training Loss:0.157 AVG Test Loss:0.561 AVG Training Acc 98.15 % AVG Test Acc 91.51 %\n",
      "Validation loss decreased (-91.423813 --> -91.507077).  Saving model ...\n",
      "Epoch:96/1000 AVG Training Loss:0.162 AVG Test Loss:0.558 AVG Training Acc 97.90 % AVG Test Acc 92.09 %\n",
      "Validation loss decreased (-91.507077 --> -92.089925).  Saving model ...\n",
      "Epoch:97/1000 AVG Training Loss:0.171 AVG Test Loss:0.557 AVG Training Acc 97.61 % AVG Test Acc 91.42 %\n",
      "EarlyStopping counter: 1 out of 20\n",
      "Epoch:98/1000 AVG Training Loss:0.186 AVG Test Loss:0.667 AVG Training Acc 97.07 % AVG Test Acc 90.92 %\n",
      "EarlyStopping counter: 2 out of 20\n",
      "Epoch:99/1000 AVG Training Loss:0.152 AVG Test Loss:0.556 AVG Training Acc 98.11 % AVG Test Acc 92.26 %\n",
      "Validation loss decreased (-92.089925 --> -92.256453).  Saving model ...\n",
      "Epoch:100/1000 AVG Training Loss:0.171 AVG Test Loss:0.674 AVG Training Acc 98.13 % AVG Test Acc 90.34 %\n",
      "EarlyStopping counter: 1 out of 20\n",
      "Epoch:101/1000 AVG Training Loss:0.185 AVG Test Loss:0.528 AVG Training Acc 97.32 % AVG Test Acc 92.17 %\n",
      "EarlyStopping counter: 2 out of 20\n",
      "Epoch:102/1000 AVG Training Loss:0.163 AVG Test Loss:0.650 AVG Training Acc 97.48 % AVG Test Acc 91.17 %\n",
      "EarlyStopping counter: 3 out of 20\n",
      "Epoch:103/1000 AVG Training Loss:0.151 AVG Test Loss:0.512 AVG Training Acc 98.11 % AVG Test Acc 92.09 %\n",
      "EarlyStopping counter: 4 out of 20\n",
      "Epoch:104/1000 AVG Training Loss:0.162 AVG Test Loss:0.534 AVG Training Acc 98.25 % AVG Test Acc 92.09 %\n",
      "EarlyStopping counter: 5 out of 20\n",
      "Epoch:105/1000 AVG Training Loss:0.126 AVG Test Loss:0.503 AVG Training Acc 98.36 % AVG Test Acc 92.26 %\n",
      "Validation loss decreased (-92.256453 --> -92.256453).  Saving model ...\n",
      "Epoch:106/1000 AVG Training Loss:0.148 AVG Test Loss:0.554 AVG Training Acc 98.36 % AVG Test Acc 92.26 %\n",
      "Validation loss decreased (-92.256453 --> -92.256453).  Saving model ...\n",
      "Epoch:107/1000 AVG Training Loss:0.161 AVG Test Loss:0.502 AVG Training Acc 98.09 % AVG Test Acc 92.84 %\n",
      "Validation loss decreased (-92.256453 --> -92.839301).  Saving model ...\n",
      "Epoch:108/1000 AVG Training Loss:0.117 AVG Test Loss:0.633 AVG Training Acc 98.29 % AVG Test Acc 91.09 %\n",
      "EarlyStopping counter: 1 out of 20\n",
      "Epoch:109/1000 AVG Training Loss:0.104 AVG Test Loss:0.527 AVG Training Acc 98.67 % AVG Test Acc 93.01 %\n",
      "Validation loss decreased (-92.839301 --> -93.005828).  Saving model ...\n",
      "Epoch:110/1000 AVG Training Loss:0.118 AVG Test Loss:0.473 AVG Training Acc 98.73 % AVG Test Acc 92.42 %\n",
      "EarlyStopping counter: 1 out of 20\n",
      "Epoch:111/1000 AVG Training Loss:0.120 AVG Test Loss:0.518 AVG Training Acc 98.50 % AVG Test Acc 92.42 %\n",
      "EarlyStopping counter: 2 out of 20\n",
      "Epoch:112/1000 AVG Training Loss:0.128 AVG Test Loss:0.544 AVG Training Acc 98.54 % AVG Test Acc 92.42 %\n",
      "EarlyStopping counter: 3 out of 20\n",
      "Epoch:113/1000 AVG Training Loss:0.107 AVG Test Loss:0.580 AVG Training Acc 98.77 % AVG Test Acc 92.34 %\n",
      "EarlyStopping counter: 4 out of 20\n",
      "Epoch:114/1000 AVG Training Loss:0.119 AVG Test Loss:0.524 AVG Training Acc 98.23 % AVG Test Acc 92.51 %\n",
      "EarlyStopping counter: 5 out of 20\n",
      "Epoch:115/1000 AVG Training Loss:0.136 AVG Test Loss:0.513 AVG Training Acc 98.65 % AVG Test Acc 93.09 %\n",
      "Validation loss decreased (-93.005828 --> -93.089092).  Saving model ...\n",
      "Epoch:116/1000 AVG Training Loss:0.107 AVG Test Loss:0.527 AVG Training Acc 98.56 % AVG Test Acc 92.76 %\n",
      "EarlyStopping counter: 1 out of 20\n",
      "Epoch:117/1000 AVG Training Loss:0.086 AVG Test Loss:0.516 AVG Training Acc 99.00 % AVG Test Acc 93.01 %\n",
      "EarlyStopping counter: 2 out of 20\n",
      "Epoch:118/1000 AVG Training Loss:0.108 AVG Test Loss:0.514 AVG Training Acc 99.04 % AVG Test Acc 93.01 %\n",
      "EarlyStopping counter: 3 out of 20\n",
      "Epoch:119/1000 AVG Training Loss:0.108 AVG Test Loss:0.614 AVG Training Acc 98.21 % AVG Test Acc 91.51 %\n",
      "EarlyStopping counter: 4 out of 20\n",
      "Epoch:120/1000 AVG Training Loss:0.123 AVG Test Loss:0.614 AVG Training Acc 97.88 % AVG Test Acc 91.01 %\n",
      "EarlyStopping counter: 5 out of 20\n",
      "Epoch:121/1000 AVG Training Loss:0.092 AVG Test Loss:0.475 AVG Training Acc 98.63 % AVG Test Acc 93.67 %\n",
      "Validation loss decreased (-93.089092 --> -93.671940).  Saving model ...\n",
      "Epoch:122/1000 AVG Training Loss:0.090 AVG Test Loss:0.749 AVG Training Acc 98.90 % AVG Test Acc 89.43 %\n",
      "EarlyStopping counter: 1 out of 20\n",
      "Epoch:123/1000 AVG Training Loss:0.093 AVG Test Loss:0.536 AVG Training Acc 98.67 % AVG Test Acc 92.76 %\n",
      "EarlyStopping counter: 2 out of 20\n",
      "Epoch:124/1000 AVG Training Loss:0.128 AVG Test Loss:0.484 AVG Training Acc 98.09 % AVG Test Acc 93.17 %\n",
      "EarlyStopping counter: 3 out of 20\n",
      "Epoch:125/1000 AVG Training Loss:0.091 AVG Test Loss:0.528 AVG Training Acc 98.81 % AVG Test Acc 92.76 %\n",
      "EarlyStopping counter: 4 out of 20\n",
      "Epoch:126/1000 AVG Training Loss:0.088 AVG Test Loss:0.593 AVG Training Acc 98.84 % AVG Test Acc 91.84 %\n",
      "EarlyStopping counter: 5 out of 20\n",
      "Epoch:127/1000 AVG Training Loss:0.086 AVG Test Loss:0.499 AVG Training Acc 98.92 % AVG Test Acc 92.92 %\n",
      "EarlyStopping counter: 6 out of 20\n",
      "Epoch:128/1000 AVG Training Loss:0.077 AVG Test Loss:0.487 AVG Training Acc 99.15 % AVG Test Acc 93.51 %\n",
      "EarlyStopping counter: 7 out of 20\n",
      "Epoch:129/1000 AVG Training Loss:0.098 AVG Test Loss:0.466 AVG Training Acc 98.65 % AVG Test Acc 93.67 %\n",
      "Validation loss decreased (-93.671940 --> -93.671940).  Saving model ...\n",
      "Epoch:130/1000 AVG Training Loss:0.099 AVG Test Loss:0.494 AVG Training Acc 98.56 % AVG Test Acc 93.01 %\n",
      "EarlyStopping counter: 1 out of 20\n",
      "Epoch:131/1000 AVG Training Loss:0.062 AVG Test Loss:0.460 AVG Training Acc 99.17 % AVG Test Acc 94.09 %\n",
      "Validation loss decreased (-93.671940 --> -94.088260).  Saving model ...\n",
      "Epoch:132/1000 AVG Training Loss:0.085 AVG Test Loss:0.463 AVG Training Acc 99.08 % AVG Test Acc 93.92 %\n",
      "EarlyStopping counter: 1 out of 20\n",
      "Epoch:133/1000 AVG Training Loss:0.102 AVG Test Loss:0.494 AVG Training Acc 98.84 % AVG Test Acc 93.26 %\n",
      "EarlyStopping counter: 2 out of 20\n",
      "Epoch:134/1000 AVG Training Loss:0.083 AVG Test Loss:0.512 AVG Training Acc 99.08 % AVG Test Acc 93.34 %\n",
      "EarlyStopping counter: 3 out of 20\n",
      "Epoch:135/1000 AVG Training Loss:0.054 AVG Test Loss:0.491 AVG Training Acc 99.38 % AVG Test Acc 93.26 %\n",
      "EarlyStopping counter: 4 out of 20\n",
      "Epoch:136/1000 AVG Training Loss:0.105 AVG Test Loss:0.435 AVG Training Acc 98.81 % AVG Test Acc 94.25 %\n",
      "Validation loss decreased (-94.088260 --> -94.254788).  Saving model ...\n",
      "Epoch:137/1000 AVG Training Loss:0.076 AVG Test Loss:0.467 AVG Training Acc 98.94 % AVG Test Acc 93.34 %\n",
      "EarlyStopping counter: 1 out of 20\n",
      "Epoch:138/1000 AVG Training Loss:0.085 AVG Test Loss:0.441 AVG Training Acc 99.13 % AVG Test Acc 94.09 %\n",
      "EarlyStopping counter: 2 out of 20\n",
      "Epoch:139/1000 AVG Training Loss:0.103 AVG Test Loss:0.534 AVG Training Acc 98.59 % AVG Test Acc 92.84 %\n",
      "EarlyStopping counter: 3 out of 20\n",
      "Epoch:140/1000 AVG Training Loss:0.103 AVG Test Loss:0.424 AVG Training Acc 98.84 % AVG Test Acc 94.50 %\n",
      "Validation loss decreased (-94.254788 --> -94.504580).  Saving model ...\n",
      "Epoch:141/1000 AVG Training Loss:0.068 AVG Test Loss:0.488 AVG Training Acc 99.00 % AVG Test Acc 93.92 %\n",
      "EarlyStopping counter: 1 out of 20\n",
      "Epoch:142/1000 AVG Training Loss:0.085 AVG Test Loss:0.439 AVG Training Acc 99.08 % AVG Test Acc 94.59 %\n",
      "Validation loss decreased (-94.504580 --> -94.587843).  Saving model ...\n",
      "Epoch:143/1000 AVG Training Loss:0.090 AVG Test Loss:0.549 AVG Training Acc 98.92 % AVG Test Acc 93.17 %\n",
      "EarlyStopping counter: 1 out of 20\n",
      "Epoch:144/1000 AVG Training Loss:0.092 AVG Test Loss:0.502 AVG Training Acc 98.81 % AVG Test Acc 93.67 %\n",
      "EarlyStopping counter: 2 out of 20\n",
      "Epoch:145/1000 AVG Training Loss:0.071 AVG Test Loss:0.477 AVG Training Acc 98.88 % AVG Test Acc 92.84 %\n",
      "EarlyStopping counter: 3 out of 20\n",
      "Epoch:146/1000 AVG Training Loss:0.086 AVG Test Loss:0.455 AVG Training Acc 98.48 % AVG Test Acc 93.67 %\n",
      "EarlyStopping counter: 4 out of 20\n",
      "Epoch:147/1000 AVG Training Loss:0.117 AVG Test Loss:0.453 AVG Training Acc 98.46 % AVG Test Acc 93.84 %\n",
      "EarlyStopping counter: 5 out of 20\n",
      "Epoch:148/1000 AVG Training Loss:0.095 AVG Test Loss:0.510 AVG Training Acc 98.38 % AVG Test Acc 93.01 %\n",
      "EarlyStopping counter: 6 out of 20\n",
      "Epoch:149/1000 AVG Training Loss:0.066 AVG Test Loss:0.459 AVG Training Acc 99.19 % AVG Test Acc 94.59 %\n",
      "Validation loss decreased (-94.587843 --> -94.587843).  Saving model ...\n",
      "Epoch:150/1000 AVG Training Loss:0.106 AVG Test Loss:0.509 AVG Training Acc 99.06 % AVG Test Acc 92.92 %\n",
      "EarlyStopping counter: 1 out of 20\n",
      "Epoch:151/1000 AVG Training Loss:0.047 AVG Test Loss:0.357 AVG Training Acc 99.36 % AVG Test Acc 95.17 %\n",
      "Validation loss decreased (-94.587843 --> -95.170691).  Saving model ...\n",
      "Epoch:152/1000 AVG Training Loss:0.059 AVG Test Loss:0.441 AVG Training Acc 99.06 % AVG Test Acc 93.84 %\n",
      "EarlyStopping counter: 1 out of 20\n",
      "Epoch:153/1000 AVG Training Loss:0.063 AVG Test Loss:0.422 AVG Training Acc 99.40 % AVG Test Acc 94.00 %\n",
      "EarlyStopping counter: 2 out of 20\n",
      "Epoch:154/1000 AVG Training Loss:0.045 AVG Test Loss:0.538 AVG Training Acc 99.58 % AVG Test Acc 93.42 %\n",
      "EarlyStopping counter: 3 out of 20\n",
      "Epoch:155/1000 AVG Training Loss:0.044 AVG Test Loss:0.413 AVG Training Acc 99.58 % AVG Test Acc 94.67 %\n",
      "EarlyStopping counter: 4 out of 20\n",
      "Epoch:156/1000 AVG Training Loss:0.043 AVG Test Loss:0.525 AVG Training Acc 99.42 % AVG Test Acc 93.34 %\n",
      "EarlyStopping counter: 5 out of 20\n",
      "Epoch:157/1000 AVG Training Loss:0.063 AVG Test Loss:0.424 AVG Training Acc 99.23 % AVG Test Acc 94.50 %\n",
      "EarlyStopping counter: 6 out of 20\n",
      "Epoch:158/1000 AVG Training Loss:0.046 AVG Test Loss:0.404 AVG Training Acc 99.38 % AVG Test Acc 94.92 %\n",
      "EarlyStopping counter: 7 out of 20\n",
      "Epoch:159/1000 AVG Training Loss:0.056 AVG Test Loss:0.410 AVG Training Acc 99.44 % AVG Test Acc 94.50 %\n",
      "EarlyStopping counter: 8 out of 20\n",
      "Epoch:160/1000 AVG Training Loss:0.050 AVG Test Loss:0.445 AVG Training Acc 99.42 % AVG Test Acc 94.00 %\n",
      "EarlyStopping counter: 9 out of 20\n",
      "Epoch:161/1000 AVG Training Loss:0.053 AVG Test Loss:0.391 AVG Training Acc 99.33 % AVG Test Acc 95.00 %\n",
      "EarlyStopping counter: 10 out of 20\n",
      "Epoch:162/1000 AVG Training Loss:0.089 AVG Test Loss:0.475 AVG Training Acc 98.75 % AVG Test Acc 93.26 %\n",
      "EarlyStopping counter: 11 out of 20\n",
      "Epoch:163/1000 AVG Training Loss:0.070 AVG Test Loss:0.550 AVG Training Acc 99.11 % AVG Test Acc 94.00 %\n",
      "EarlyStopping counter: 12 out of 20\n",
      "Epoch:164/1000 AVG Training Loss:0.072 AVG Test Loss:0.428 AVG Training Acc 99.02 % AVG Test Acc 95.25 %\n",
      "Validation loss decreased (-95.170691 --> -95.253955).  Saving model ...\n",
      "Epoch:165/1000 AVG Training Loss:0.048 AVG Test Loss:0.437 AVG Training Acc 99.25 % AVG Test Acc 94.25 %\n",
      "EarlyStopping counter: 1 out of 20\n",
      "Epoch:166/1000 AVG Training Loss:0.144 AVG Test Loss:0.586 AVG Training Acc 98.02 % AVG Test Acc 93.26 %\n",
      "EarlyStopping counter: 2 out of 20\n",
      "Epoch:167/1000 AVG Training Loss:0.066 AVG Test Loss:0.446 AVG Training Acc 98.73 % AVG Test Acc 94.67 %\n",
      "EarlyStopping counter: 3 out of 20\n",
      "Epoch:168/1000 AVG Training Loss:0.052 AVG Test Loss:0.380 AVG Training Acc 99.21 % AVG Test Acc 94.84 %\n",
      "EarlyStopping counter: 4 out of 20\n",
      "Epoch:169/1000 AVG Training Loss:0.038 AVG Test Loss:0.358 AVG Training Acc 99.60 % AVG Test Acc 95.00 %\n",
      "EarlyStopping counter: 5 out of 20\n",
      "Epoch:170/1000 AVG Training Loss:0.027 AVG Test Loss:0.482 AVG Training Acc 99.63 % AVG Test Acc 94.00 %\n",
      "EarlyStopping counter: 6 out of 20\n",
      "Epoch:171/1000 AVG Training Loss:0.054 AVG Test Loss:0.434 AVG Training Acc 99.54 % AVG Test Acc 95.34 %\n",
      "Validation loss decreased (-95.253955 --> -95.337219).  Saving model ...\n",
      "Epoch:172/1000 AVG Training Loss:0.036 AVG Test Loss:0.357 AVG Training Acc 99.50 % AVG Test Acc 95.25 %\n",
      "EarlyStopping counter: 1 out of 20\n",
      "Epoch:173/1000 AVG Training Loss:0.051 AVG Test Loss:0.534 AVG Training Acc 99.42 % AVG Test Acc 94.34 %\n",
      "EarlyStopping counter: 2 out of 20\n",
      "Epoch:174/1000 AVG Training Loss:0.038 AVG Test Loss:0.355 AVG Training Acc 99.31 % AVG Test Acc 95.17 %\n",
      "EarlyStopping counter: 3 out of 20\n",
      "Epoch:175/1000 AVG Training Loss:0.036 AVG Test Loss:0.450 AVG Training Acc 99.48 % AVG Test Acc 94.67 %\n",
      "EarlyStopping counter: 4 out of 20\n",
      "Epoch:176/1000 AVG Training Loss:0.049 AVG Test Loss:0.428 AVG Training Acc 99.19 % AVG Test Acc 94.25 %\n",
      "EarlyStopping counter: 5 out of 20\n",
      "Epoch:177/1000 AVG Training Loss:0.051 AVG Test Loss:0.358 AVG Training Acc 99.25 % AVG Test Acc 95.84 %\n",
      "Validation loss decreased (-95.337219 --> -95.836803).  Saving model ...\n",
      "Epoch:178/1000 AVG Training Loss:0.055 AVG Test Loss:0.388 AVG Training Acc 99.31 % AVG Test Acc 95.00 %\n",
      "EarlyStopping counter: 1 out of 20\n",
      "Epoch:179/1000 AVG Training Loss:0.089 AVG Test Loss:0.410 AVG Training Acc 98.77 % AVG Test Acc 95.09 %\n",
      "EarlyStopping counter: 2 out of 20\n",
      "Epoch:180/1000 AVG Training Loss:0.094 AVG Test Loss:0.523 AVG Training Acc 98.54 % AVG Test Acc 93.92 %\n",
      "EarlyStopping counter: 3 out of 20\n",
      "Epoch:181/1000 AVG Training Loss:0.102 AVG Test Loss:0.417 AVG Training Acc 98.90 % AVG Test Acc 94.09 %\n",
      "EarlyStopping counter: 4 out of 20\n",
      "Epoch:182/1000 AVG Training Loss:0.035 AVG Test Loss:0.323 AVG Training Acc 99.38 % AVG Test Acc 95.59 %\n",
      "EarlyStopping counter: 5 out of 20\n",
      "Epoch:183/1000 AVG Training Loss:0.020 AVG Test Loss:0.292 AVG Training Acc 99.65 % AVG Test Acc 96.34 %\n",
      "Validation loss decreased (-95.836803 --> -96.336386).  Saving model ...\n",
      "Epoch:184/1000 AVG Training Loss:0.035 AVG Test Loss:0.291 AVG Training Acc 99.69 % AVG Test Acc 96.00 %\n",
      "EarlyStopping counter: 1 out of 20\n",
      "Epoch:185/1000 AVG Training Loss:0.045 AVG Test Loss:0.341 AVG Training Acc 99.44 % AVG Test Acc 95.50 %\n",
      "EarlyStopping counter: 2 out of 20\n",
      "Epoch:186/1000 AVG Training Loss:0.047 AVG Test Loss:0.304 AVG Training Acc 99.21 % AVG Test Acc 96.00 %\n",
      "EarlyStopping counter: 3 out of 20\n",
      "Epoch:187/1000 AVG Training Loss:0.054 AVG Test Loss:0.379 AVG Training Acc 99.27 % AVG Test Acc 95.67 %\n",
      "EarlyStopping counter: 4 out of 20\n",
      "Epoch:188/1000 AVG Training Loss:0.054 AVG Test Loss:0.359 AVG Training Acc 99.27 % AVG Test Acc 95.59 %\n",
      "EarlyStopping counter: 5 out of 20\n",
      "Epoch:189/1000 AVG Training Loss:0.038 AVG Test Loss:0.326 AVG Training Acc 99.46 % AVG Test Acc 95.67 %\n",
      "EarlyStopping counter: 6 out of 20\n",
      "Epoch:190/1000 AVG Training Loss:0.022 AVG Test Loss:0.416 AVG Training Acc 99.52 % AVG Test Acc 95.75 %\n",
      "EarlyStopping counter: 7 out of 20\n",
      "Epoch:191/1000 AVG Training Loss:0.086 AVG Test Loss:0.484 AVG Training Acc 98.90 % AVG Test Acc 95.00 %\n",
      "EarlyStopping counter: 8 out of 20\n",
      "Epoch:192/1000 AVG Training Loss:0.029 AVG Test Loss:0.410 AVG Training Acc 99.48 % AVG Test Acc 95.59 %\n",
      "EarlyStopping counter: 9 out of 20\n",
      "Epoch:193/1000 AVG Training Loss:0.026 AVG Test Loss:0.391 AVG Training Acc 99.67 % AVG Test Acc 95.84 %\n",
      "EarlyStopping counter: 10 out of 20\n",
      "Epoch:194/1000 AVG Training Loss:0.033 AVG Test Loss:0.394 AVG Training Acc 99.56 % AVG Test Acc 95.59 %\n",
      "EarlyStopping counter: 11 out of 20\n",
      "Epoch:195/1000 AVG Training Loss:0.030 AVG Test Loss:0.304 AVG Training Acc 99.50 % AVG Test Acc 96.00 %\n",
      "EarlyStopping counter: 12 out of 20\n",
      "Epoch:196/1000 AVG Training Loss:0.056 AVG Test Loss:0.348 AVG Training Acc 99.33 % AVG Test Acc 96.34 %\n",
      "Validation loss decreased (-96.336386 --> -96.336386).  Saving model ...\n",
      "Epoch:197/1000 AVG Training Loss:0.047 AVG Test Loss:0.391 AVG Training Acc 99.40 % AVG Test Acc 95.42 %\n",
      "EarlyStopping counter: 1 out of 20\n",
      "Epoch:198/1000 AVG Training Loss:0.021 AVG Test Loss:0.440 AVG Training Acc 99.67 % AVG Test Acc 94.50 %\n",
      "EarlyStopping counter: 2 out of 20\n",
      "Epoch:199/1000 AVG Training Loss:0.038 AVG Test Loss:0.334 AVG Training Acc 99.58 % AVG Test Acc 95.84 %\n",
      "EarlyStopping counter: 3 out of 20\n",
      "Epoch:200/1000 AVG Training Loss:0.041 AVG Test Loss:0.444 AVG Training Acc 99.58 % AVG Test Acc 95.34 %\n",
      "EarlyStopping counter: 4 out of 20\n",
      "Epoch:201/1000 AVG Training Loss:0.035 AVG Test Loss:0.318 AVG Training Acc 99.44 % AVG Test Acc 95.92 %\n",
      "EarlyStopping counter: 5 out of 20\n",
      "Epoch:202/1000 AVG Training Loss:0.022 AVG Test Loss:0.360 AVG Training Acc 99.52 % AVG Test Acc 95.59 %\n",
      "EarlyStopping counter: 6 out of 20\n",
      "Epoch:203/1000 AVG Training Loss:0.032 AVG Test Loss:0.404 AVG Training Acc 99.67 % AVG Test Acc 95.34 %\n",
      "EarlyStopping counter: 7 out of 20\n",
      "Epoch:204/1000 AVG Training Loss:0.029 AVG Test Loss:0.311 AVG Training Acc 99.60 % AVG Test Acc 95.92 %\n",
      "EarlyStopping counter: 8 out of 20\n",
      "Epoch:205/1000 AVG Training Loss:0.016 AVG Test Loss:0.300 AVG Training Acc 99.65 % AVG Test Acc 96.34 %\n",
      "Validation loss decreased (-96.336386 --> -96.336386).  Saving model ...\n",
      "Epoch:206/1000 AVG Training Loss:0.021 AVG Test Loss:0.359 AVG Training Acc 99.71 % AVG Test Acc 96.09 %\n",
      "EarlyStopping counter: 1 out of 20\n",
      "Epoch:207/1000 AVG Training Loss:0.052 AVG Test Loss:0.637 AVG Training Acc 99.29 % AVG Test Acc 92.84 %\n",
      "EarlyStopping counter: 2 out of 20\n",
      "Epoch:208/1000 AVG Training Loss:0.057 AVG Test Loss:0.375 AVG Training Acc 99.15 % AVG Test Acc 95.92 %\n",
      "EarlyStopping counter: 3 out of 20\n",
      "Epoch:209/1000 AVG Training Loss:0.026 AVG Test Loss:0.343 AVG Training Acc 99.65 % AVG Test Acc 96.34 %\n",
      "Validation loss decreased (-96.336386 --> -96.336386).  Saving model ...\n",
      "Epoch:210/1000 AVG Training Loss:0.019 AVG Test Loss:0.391 AVG Training Acc 99.58 % AVG Test Acc 95.25 %\n",
      "EarlyStopping counter: 1 out of 20\n",
      "Epoch:211/1000 AVG Training Loss:0.018 AVG Test Loss:0.301 AVG Training Acc 99.75 % AVG Test Acc 96.67 %\n",
      "Validation loss decreased (-96.336386 --> -96.669442).  Saving model ...\n",
      "Epoch:212/1000 AVG Training Loss:0.019 AVG Test Loss:0.316 AVG Training Acc 99.79 % AVG Test Acc 96.67 %\n",
      "Validation loss decreased (-96.669442 --> -96.669442).  Saving model ...\n",
      "Epoch:213/1000 AVG Training Loss:0.026 AVG Test Loss:0.460 AVG Training Acc 99.58 % AVG Test Acc 94.75 %\n",
      "EarlyStopping counter: 1 out of 20\n",
      "Epoch:214/1000 AVG Training Loss:0.026 AVG Test Loss:0.454 AVG Training Acc 99.69 % AVG Test Acc 94.84 %\n",
      "EarlyStopping counter: 2 out of 20\n",
      "Epoch:215/1000 AVG Training Loss:0.013 AVG Test Loss:0.378 AVG Training Acc 99.63 % AVG Test Acc 96.17 %\n",
      "EarlyStopping counter: 3 out of 20\n",
      "Epoch:216/1000 AVG Training Loss:0.016 AVG Test Loss:0.318 AVG Training Acc 99.73 % AVG Test Acc 96.25 %\n",
      "EarlyStopping counter: 4 out of 20\n",
      "Epoch:217/1000 AVG Training Loss:0.043 AVG Test Loss:0.378 AVG Training Acc 99.48 % AVG Test Acc 95.84 %\n",
      "EarlyStopping counter: 5 out of 20\n",
      "Epoch:218/1000 AVG Training Loss:0.031 AVG Test Loss:0.320 AVG Training Acc 99.60 % AVG Test Acc 95.75 %\n",
      "EarlyStopping counter: 6 out of 20\n",
      "Epoch:219/1000 AVG Training Loss:0.020 AVG Test Loss:0.339 AVG Training Acc 99.54 % AVG Test Acc 95.75 %\n",
      "EarlyStopping counter: 7 out of 20\n",
      "Epoch:220/1000 AVG Training Loss:0.021 AVG Test Loss:0.360 AVG Training Acc 99.71 % AVG Test Acc 95.59 %\n",
      "EarlyStopping counter: 8 out of 20\n",
      "Epoch:221/1000 AVG Training Loss:0.013 AVG Test Loss:0.379 AVG Training Acc 99.83 % AVG Test Acc 95.59 %\n",
      "EarlyStopping counter: 9 out of 20\n",
      "Epoch:222/1000 AVG Training Loss:0.014 AVG Test Loss:0.342 AVG Training Acc 99.81 % AVG Test Acc 95.84 %\n",
      "EarlyStopping counter: 10 out of 20\n",
      "Epoch:223/1000 AVG Training Loss:0.018 AVG Test Loss:0.402 AVG Training Acc 99.81 % AVG Test Acc 95.50 %\n",
      "EarlyStopping counter: 11 out of 20\n",
      "Epoch:224/1000 AVG Training Loss:0.042 AVG Test Loss:0.347 AVG Training Acc 99.54 % AVG Test Acc 95.92 %\n",
      "EarlyStopping counter: 12 out of 20\n",
      "Epoch:225/1000 AVG Training Loss:0.028 AVG Test Loss:0.283 AVG Training Acc 99.75 % AVG Test Acc 96.75 %\n",
      "Validation loss decreased (-96.669442 --> -96.752706).  Saving model ...\n",
      "Epoch:226/1000 AVG Training Loss:0.010 AVG Test Loss:0.277 AVG Training Acc 99.88 % AVG Test Acc 96.67 %\n",
      "EarlyStopping counter: 1 out of 20\n",
      "Epoch:227/1000 AVG Training Loss:0.004 AVG Test Loss:0.280 AVG Training Acc 99.92 % AVG Test Acc 96.67 %\n",
      "EarlyStopping counter: 2 out of 20\n",
      "Epoch:228/1000 AVG Training Loss:0.013 AVG Test Loss:0.340 AVG Training Acc 99.90 % AVG Test Acc 96.17 %\n",
      "EarlyStopping counter: 3 out of 20\n",
      "Epoch:229/1000 AVG Training Loss:0.013 AVG Test Loss:0.340 AVG Training Acc 99.83 % AVG Test Acc 96.34 %\n",
      "EarlyStopping counter: 4 out of 20\n",
      "Epoch:230/1000 AVG Training Loss:0.042 AVG Test Loss:0.374 AVG Training Acc 99.21 % AVG Test Acc 96.17 %\n",
      "EarlyStopping counter: 5 out of 20\n",
      "Epoch:231/1000 AVG Training Loss:0.048 AVG Test Loss:0.304 AVG Training Acc 99.13 % AVG Test Acc 95.84 %\n",
      "EarlyStopping counter: 6 out of 20\n",
      "Epoch:232/1000 AVG Training Loss:0.021 AVG Test Loss:0.290 AVG Training Acc 99.44 % AVG Test Acc 96.59 %\n",
      "EarlyStopping counter: 7 out of 20\n",
      "Epoch:233/1000 AVG Training Loss:0.060 AVG Test Loss:0.391 AVG Training Acc 99.11 % AVG Test Acc 96.17 %\n",
      "EarlyStopping counter: 8 out of 20\n",
      "Epoch:234/1000 AVG Training Loss:0.062 AVG Test Loss:0.323 AVG Training Acc 98.90 % AVG Test Acc 96.34 %\n",
      "EarlyStopping counter: 9 out of 20\n",
      "Epoch:235/1000 AVG Training Loss:0.073 AVG Test Loss:0.333 AVG Training Acc 98.61 % AVG Test Acc 95.34 %\n",
      "EarlyStopping counter: 10 out of 20\n",
      "Epoch:236/1000 AVG Training Loss:0.047 AVG Test Loss:0.399 AVG Training Acc 99.08 % AVG Test Acc 95.17 %\n",
      "EarlyStopping counter: 11 out of 20\n",
      "Epoch:237/1000 AVG Training Loss:0.015 AVG Test Loss:0.267 AVG Training Acc 99.63 % AVG Test Acc 96.75 %\n",
      "Validation loss decreased (-96.752706 --> -96.752706).  Saving model ...\n",
      "Epoch:238/1000 AVG Training Loss:0.028 AVG Test Loss:0.267 AVG Training Acc 99.44 % AVG Test Acc 96.59 %\n",
      "EarlyStopping counter: 1 out of 20\n",
      "Epoch:239/1000 AVG Training Loss:0.029 AVG Test Loss:0.331 AVG Training Acc 99.48 % AVG Test Acc 95.59 %\n",
      "EarlyStopping counter: 2 out of 20\n",
      "Epoch:240/1000 AVG Training Loss:0.031 AVG Test Loss:0.287 AVG Training Acc 99.54 % AVG Test Acc 96.42 %\n",
      "EarlyStopping counter: 3 out of 20\n",
      "Epoch:241/1000 AVG Training Loss:0.010 AVG Test Loss:0.265 AVG Training Acc 99.73 % AVG Test Acc 96.42 %\n",
      "EarlyStopping counter: 4 out of 20\n",
      "Epoch:242/1000 AVG Training Loss:0.012 AVG Test Loss:0.266 AVG Training Acc 99.83 % AVG Test Acc 96.34 %\n",
      "EarlyStopping counter: 5 out of 20\n",
      "Epoch:243/1000 AVG Training Loss:0.024 AVG Test Loss:0.292 AVG Training Acc 99.77 % AVG Test Acc 95.42 %\n",
      "EarlyStopping counter: 6 out of 20\n",
      "Epoch:244/1000 AVG Training Loss:0.012 AVG Test Loss:0.242 AVG Training Acc 99.79 % AVG Test Acc 96.59 %\n",
      "EarlyStopping counter: 7 out of 20\n",
      "Epoch:245/1000 AVG Training Loss:0.008 AVG Test Loss:0.309 AVG Training Acc 99.81 % AVG Test Acc 96.17 %\n",
      "EarlyStopping counter: 8 out of 20\n",
      "Epoch:246/1000 AVG Training Loss:0.007 AVG Test Loss:0.257 AVG Training Acc 99.92 % AVG Test Acc 96.75 %\n",
      "Validation loss decreased (-96.752706 --> -96.752706).  Saving model ...\n",
      "Epoch:247/1000 AVG Training Loss:0.050 AVG Test Loss:0.461 AVG Training Acc 99.33 % AVG Test Acc 94.59 %\n",
      "EarlyStopping counter: 1 out of 20\n",
      "Epoch:248/1000 AVG Training Loss:0.043 AVG Test Loss:0.455 AVG Training Acc 99.31 % AVG Test Acc 95.42 %\n",
      "EarlyStopping counter: 2 out of 20\n",
      "Epoch:249/1000 AVG Training Loss:0.037 AVG Test Loss:0.282 AVG Training Acc 99.38 % AVG Test Acc 96.17 %\n",
      "EarlyStopping counter: 3 out of 20\n",
      "Epoch:250/1000 AVG Training Loss:0.040 AVG Test Loss:0.350 AVG Training Acc 99.52 % AVG Test Acc 95.67 %\n",
      "EarlyStopping counter: 4 out of 20\n",
      "Epoch:251/1000 AVG Training Loss:0.026 AVG Test Loss:0.249 AVG Training Acc 99.50 % AVG Test Acc 96.75 %\n",
      "Validation loss decreased (-96.752706 --> -96.752706).  Saving model ...\n",
      "Epoch:252/1000 AVG Training Loss:0.019 AVG Test Loss:0.271 AVG Training Acc 99.79 % AVG Test Acc 96.42 %\n",
      "EarlyStopping counter: 1 out of 20\n",
      "Epoch:253/1000 AVG Training Loss:0.012 AVG Test Loss:0.265 AVG Training Acc 99.88 % AVG Test Acc 96.84 %\n",
      "Validation loss decreased (-96.752706 --> -96.835970).  Saving model ...\n",
      "Epoch:254/1000 AVG Training Loss:0.011 AVG Test Loss:0.296 AVG Training Acc 99.83 % AVG Test Acc 96.50 %\n",
      "EarlyStopping counter: 1 out of 20\n",
      "Epoch:255/1000 AVG Training Loss:0.020 AVG Test Loss:0.253 AVG Training Acc 99.69 % AVG Test Acc 97.17 %\n",
      "Validation loss decreased (-96.835970 --> -97.169026).  Saving model ...\n",
      "Epoch:256/1000 AVG Training Loss:0.010 AVG Test Loss:0.257 AVG Training Acc 99.90 % AVG Test Acc 97.17 %\n",
      "Validation loss decreased (-97.169026 --> -97.169026).  Saving model ...\n",
      "Epoch:257/1000 AVG Training Loss:0.005 AVG Test Loss:0.226 AVG Training Acc 99.88 % AVG Test Acc 96.84 %\n",
      "EarlyStopping counter: 1 out of 20\n",
      "Epoch:258/1000 AVG Training Loss:0.008 AVG Test Loss:0.268 AVG Training Acc 99.85 % AVG Test Acc 97.00 %\n",
      "EarlyStopping counter: 2 out of 20\n",
      "Epoch:259/1000 AVG Training Loss:0.004 AVG Test Loss:0.288 AVG Training Acc 99.92 % AVG Test Acc 96.92 %\n",
      "EarlyStopping counter: 3 out of 20\n",
      "Epoch:260/1000 AVG Training Loss:0.012 AVG Test Loss:0.244 AVG Training Acc 99.88 % AVG Test Acc 96.75 %\n",
      "EarlyStopping counter: 4 out of 20\n",
      "Epoch:261/1000 AVG Training Loss:0.033 AVG Test Loss:0.348 AVG Training Acc 99.48 % AVG Test Acc 95.09 %\n",
      "EarlyStopping counter: 5 out of 20\n",
      "Epoch:262/1000 AVG Training Loss:0.016 AVG Test Loss:0.236 AVG Training Acc 99.75 % AVG Test Acc 96.42 %\n",
      "EarlyStopping counter: 6 out of 20\n",
      "Epoch:263/1000 AVG Training Loss:0.009 AVG Test Loss:0.318 AVG Training Acc 99.79 % AVG Test Acc 96.17 %\n",
      "EarlyStopping counter: 7 out of 20\n",
      "Epoch:264/1000 AVG Training Loss:0.017 AVG Test Loss:0.299 AVG Training Acc 99.69 % AVG Test Acc 96.17 %\n",
      "EarlyStopping counter: 8 out of 20\n",
      "Epoch:265/1000 AVG Training Loss:0.010 AVG Test Loss:0.352 AVG Training Acc 99.92 % AVG Test Acc 95.67 %\n",
      "EarlyStopping counter: 9 out of 20\n",
      "Epoch:266/1000 AVG Training Loss:0.010 AVG Test Loss:0.307 AVG Training Acc 99.77 % AVG Test Acc 96.25 %\n",
      "EarlyStopping counter: 10 out of 20\n",
      "Epoch:267/1000 AVG Training Loss:0.012 AVG Test Loss:0.258 AVG Training Acc 99.77 % AVG Test Acc 96.75 %\n",
      "EarlyStopping counter: 11 out of 20\n",
      "Epoch:268/1000 AVG Training Loss:0.005 AVG Test Loss:0.343 AVG Training Acc 99.88 % AVG Test Acc 95.84 %\n",
      "EarlyStopping counter: 12 out of 20\n",
      "Epoch:269/1000 AVG Training Loss:0.007 AVG Test Loss:0.258 AVG Training Acc 99.79 % AVG Test Acc 96.34 %\n",
      "EarlyStopping counter: 13 out of 20\n",
      "Epoch:270/1000 AVG Training Loss:0.008 AVG Test Loss:0.237 AVG Training Acc 99.77 % AVG Test Acc 96.67 %\n",
      "EarlyStopping counter: 14 out of 20\n",
      "Epoch:271/1000 AVG Training Loss:0.015 AVG Test Loss:0.318 AVG Training Acc 99.71 % AVG Test Acc 96.25 %\n",
      "EarlyStopping counter: 15 out of 20\n",
      "Epoch:272/1000 AVG Training Loss:0.042 AVG Test Loss:0.372 AVG Training Acc 99.44 % AVG Test Acc 96.09 %\n",
      "EarlyStopping counter: 16 out of 20\n",
      "Epoch:273/1000 AVG Training Loss:0.016 AVG Test Loss:0.263 AVG Training Acc 99.75 % AVG Test Acc 97.09 %\n",
      "EarlyStopping counter: 17 out of 20\n",
      "Epoch:274/1000 AVG Training Loss:0.009 AVG Test Loss:0.368 AVG Training Acc 99.79 % AVG Test Acc 96.25 %\n",
      "EarlyStopping counter: 18 out of 20\n",
      "Epoch:275/1000 AVG Training Loss:0.010 AVG Test Loss:0.297 AVG Training Acc 99.73 % AVG Test Acc 96.42 %\n",
      "EarlyStopping counter: 19 out of 20\n",
      "Epoch:276/1000 AVG Training Loss:0.034 AVG Test Loss:0.227 AVG Training Acc 99.67 % AVG Test Acc 97.34 %\n",
      "Validation loss decreased (-97.169026 --> -97.335554).  Saving model ...\n",
      "Epoch:277/1000 AVG Training Loss:0.018 AVG Test Loss:0.250 AVG Training Acc 99.63 % AVG Test Acc 96.92 %\n",
      "EarlyStopping counter: 1 out of 20\n",
      "Epoch:278/1000 AVG Training Loss:0.019 AVG Test Loss:0.371 AVG Training Acc 99.52 % AVG Test Acc 96.17 %\n",
      "EarlyStopping counter: 2 out of 20\n",
      "Epoch:279/1000 AVG Training Loss:0.022 AVG Test Loss:0.443 AVG Training Acc 99.60 % AVG Test Acc 94.84 %\n",
      "EarlyStopping counter: 3 out of 20\n",
      "Epoch:280/1000 AVG Training Loss:0.037 AVG Test Loss:0.711 AVG Training Acc 99.23 % AVG Test Acc 93.42 %\n",
      "EarlyStopping counter: 4 out of 20\n",
      "Epoch:281/1000 AVG Training Loss:0.047 AVG Test Loss:0.310 AVG Training Acc 99.06 % AVG Test Acc 96.84 %\n",
      "EarlyStopping counter: 5 out of 20\n",
      "Epoch:282/1000 AVG Training Loss:0.030 AVG Test Loss:0.283 AVG Training Acc 99.38 % AVG Test Acc 96.42 %\n",
      "EarlyStopping counter: 6 out of 20\n",
      "Epoch:283/1000 AVG Training Loss:0.012 AVG Test Loss:0.210 AVG Training Acc 99.77 % AVG Test Acc 97.34 %\n",
      "Validation loss decreased (-97.335554 --> -97.335554).  Saving model ...\n",
      "Epoch:284/1000 AVG Training Loss:0.009 AVG Test Loss:0.227 AVG Training Acc 99.79 % AVG Test Acc 97.09 %\n",
      "EarlyStopping counter: 1 out of 20\n",
      "Epoch:285/1000 AVG Training Loss:0.011 AVG Test Loss:0.230 AVG Training Acc 99.81 % AVG Test Acc 97.17 %\n",
      "EarlyStopping counter: 2 out of 20\n",
      "Epoch:286/1000 AVG Training Loss:0.004 AVG Test Loss:0.235 AVG Training Acc 99.83 % AVG Test Acc 97.25 %\n",
      "EarlyStopping counter: 3 out of 20\n",
      "Epoch:287/1000 AVG Training Loss:0.077 AVG Test Loss:0.440 AVG Training Acc 98.96 % AVG Test Acc 95.67 %\n",
      "EarlyStopping counter: 4 out of 20\n",
      "Epoch:288/1000 AVG Training Loss:0.026 AVG Test Loss:0.473 AVG Training Acc 99.23 % AVG Test Acc 95.25 %\n",
      "EarlyStopping counter: 5 out of 20\n",
      "Epoch:289/1000 AVG Training Loss:0.016 AVG Test Loss:0.311 AVG Training Acc 99.79 % AVG Test Acc 96.59 %\n",
      "EarlyStopping counter: 6 out of 20\n",
      "Epoch:290/1000 AVG Training Loss:0.020 AVG Test Loss:0.297 AVG Training Acc 99.69 % AVG Test Acc 96.75 %\n",
      "EarlyStopping counter: 7 out of 20\n",
      "Epoch:291/1000 AVG Training Loss:0.012 AVG Test Loss:0.254 AVG Training Acc 99.90 % AVG Test Acc 97.50 %\n",
      "Validation loss decreased (-97.335554 --> -97.502082).  Saving model ...\n",
      "Epoch:292/1000 AVG Training Loss:0.004 AVG Test Loss:0.340 AVG Training Acc 99.92 % AVG Test Acc 97.00 %\n",
      "EarlyStopping counter: 1 out of 20\n",
      "Epoch:293/1000 AVG Training Loss:0.021 AVG Test Loss:0.253 AVG Training Acc 99.65 % AVG Test Acc 97.34 %\n",
      "EarlyStopping counter: 2 out of 20\n",
      "Epoch:294/1000 AVG Training Loss:0.018 AVG Test Loss:0.323 AVG Training Acc 99.71 % AVG Test Acc 97.17 %\n",
      "EarlyStopping counter: 3 out of 20\n",
      "Epoch:295/1000 AVG Training Loss:0.007 AVG Test Loss:0.262 AVG Training Acc 99.90 % AVG Test Acc 97.42 %\n",
      "EarlyStopping counter: 4 out of 20\n",
      "Epoch:296/1000 AVG Training Loss:0.004 AVG Test Loss:0.284 AVG Training Acc 99.94 % AVG Test Acc 97.42 %\n",
      "EarlyStopping counter: 5 out of 20\n",
      "Epoch:297/1000 AVG Training Loss:0.013 AVG Test Loss:0.327 AVG Training Acc 99.81 % AVG Test Acc 96.67 %\n",
      "EarlyStopping counter: 6 out of 20\n",
      "Epoch:298/1000 AVG Training Loss:0.010 AVG Test Loss:0.279 AVG Training Acc 99.79 % AVG Test Acc 97.25 %\n",
      "EarlyStopping counter: 7 out of 20\n",
      "Epoch:299/1000 AVG Training Loss:0.008 AVG Test Loss:0.301 AVG Training Acc 99.90 % AVG Test Acc 97.09 %\n",
      "EarlyStopping counter: 8 out of 20\n",
      "Epoch:300/1000 AVG Training Loss:0.003 AVG Test Loss:0.243 AVG Training Acc 99.96 % AVG Test Acc 97.00 %\n",
      "EarlyStopping counter: 9 out of 20\n",
      "Epoch:301/1000 AVG Training Loss:0.006 AVG Test Loss:0.246 AVG Training Acc 99.88 % AVG Test Acc 97.09 %\n",
      "EarlyStopping counter: 10 out of 20\n",
      "Epoch:302/1000 AVG Training Loss:0.020 AVG Test Loss:0.391 AVG Training Acc 99.67 % AVG Test Acc 96.25 %\n",
      "EarlyStopping counter: 11 out of 20\n",
      "Epoch:303/1000 AVG Training Loss:0.009 AVG Test Loss:0.211 AVG Training Acc 99.79 % AVG Test Acc 97.42 %\n",
      "EarlyStopping counter: 12 out of 20\n",
      "Epoch:304/1000 AVG Training Loss:0.017 AVG Test Loss:0.231 AVG Training Acc 99.67 % AVG Test Acc 97.92 %\n",
      "Validation loss decreased (-97.502082 --> -97.918401).  Saving model ...\n",
      "Epoch:305/1000 AVG Training Loss:0.008 AVG Test Loss:0.269 AVG Training Acc 99.83 % AVG Test Acc 97.34 %\n",
      "EarlyStopping counter: 1 out of 20\n",
      "Epoch:306/1000 AVG Training Loss:0.002 AVG Test Loss:0.220 AVG Training Acc 99.96 % AVG Test Acc 98.00 %\n",
      "Validation loss decreased (-97.918401 --> -98.001665).  Saving model ...\n",
      "Epoch:307/1000 AVG Training Loss:0.008 AVG Test Loss:0.262 AVG Training Acc 99.94 % AVG Test Acc 97.50 %\n",
      "EarlyStopping counter: 1 out of 20\n",
      "Epoch:308/1000 AVG Training Loss:0.012 AVG Test Loss:0.278 AVG Training Acc 99.83 % AVG Test Acc 97.34 %\n",
      "EarlyStopping counter: 2 out of 20\n",
      "Epoch:309/1000 AVG Training Loss:0.002 AVG Test Loss:0.285 AVG Training Acc 99.96 % AVG Test Acc 97.09 %\n",
      "EarlyStopping counter: 3 out of 20\n",
      "Epoch:310/1000 AVG Training Loss:0.006 AVG Test Loss:0.286 AVG Training Acc 99.90 % AVG Test Acc 96.67 %\n",
      "EarlyStopping counter: 4 out of 20\n",
      "Epoch:311/1000 AVG Training Loss:0.001 AVG Test Loss:0.217 AVG Training Acc 99.98 % AVG Test Acc 97.67 %\n",
      "EarlyStopping counter: 5 out of 20\n",
      "Epoch:312/1000 AVG Training Loss:0.005 AVG Test Loss:0.194 AVG Training Acc 99.94 % AVG Test Acc 97.67 %\n",
      "EarlyStopping counter: 6 out of 20\n",
      "Epoch:313/1000 AVG Training Loss:0.001 AVG Test Loss:0.298 AVG Training Acc 99.98 % AVG Test Acc 97.09 %\n",
      "EarlyStopping counter: 7 out of 20\n",
      "Epoch:314/1000 AVG Training Loss:0.001 AVG Test Loss:0.249 AVG Training Acc 99.96 % AVG Test Acc 97.25 %\n",
      "EarlyStopping counter: 8 out of 20\n",
      "Epoch:315/1000 AVG Training Loss:0.002 AVG Test Loss:0.278 AVG Training Acc 99.98 % AVG Test Acc 96.92 %\n",
      "EarlyStopping counter: 9 out of 20\n",
      "Epoch:316/1000 AVG Training Loss:0.006 AVG Test Loss:0.259 AVG Training Acc 99.85 % AVG Test Acc 97.42 %\n",
      "EarlyStopping counter: 10 out of 20\n",
      "Epoch:317/1000 AVG Training Loss:0.001 AVG Test Loss:0.288 AVG Training Acc 100.00 % AVG Test Acc 96.75 %\n",
      "EarlyStopping counter: 11 out of 20\n",
      "Epoch:318/1000 AVG Training Loss:0.001 AVG Test Loss:0.243 AVG Training Acc 99.98 % AVG Test Acc 97.00 %\n",
      "EarlyStopping counter: 12 out of 20\n",
      "Epoch:319/1000 AVG Training Loss:0.000 AVG Test Loss:0.240 AVG Training Acc 100.00 % AVG Test Acc 97.17 %\n",
      "EarlyStopping counter: 13 out of 20\n",
      "Epoch:320/1000 AVG Training Loss:0.001 AVG Test Loss:0.272 AVG Training Acc 99.98 % AVG Test Acc 97.09 %\n",
      "EarlyStopping counter: 14 out of 20\n",
      "Epoch:321/1000 AVG Training Loss:0.001 AVG Test Loss:0.271 AVG Training Acc 100.00 % AVG Test Acc 97.42 %\n",
      "EarlyStopping counter: 15 out of 20\n",
      "Epoch:322/1000 AVG Training Loss:0.002 AVG Test Loss:0.210 AVG Training Acc 99.94 % AVG Test Acc 97.00 %\n",
      "EarlyStopping counter: 16 out of 20\n",
      "Epoch:323/1000 AVG Training Loss:0.015 AVG Test Loss:0.386 AVG Training Acc 99.73 % AVG Test Acc 96.50 %\n",
      "EarlyStopping counter: 17 out of 20\n",
      "Epoch:324/1000 AVG Training Loss:0.024 AVG Test Loss:0.307 AVG Training Acc 99.71 % AVG Test Acc 97.25 %\n",
      "EarlyStopping counter: 18 out of 20\n",
      "Epoch:325/1000 AVG Training Loss:0.009 AVG Test Loss:0.221 AVG Training Acc 99.81 % AVG Test Acc 97.25 %\n",
      "EarlyStopping counter: 19 out of 20\n",
      "Epoch:326/1000 AVG Training Loss:0.023 AVG Test Loss:0.319 AVG Training Acc 99.75 % AVG Test Acc 96.92 %\n",
      "EarlyStopping counter: 20 out of 20\n"
     ]
    }
   ],
   "source": [
    "history = {'train_loss': [], 'test_loss': [],'train_acc':[],'test_acc':[]}\n",
    "\n",
    "early_stopping = EarlyStopping(patience = 20, verbose = True)\n",
    "for epoch in range(epochs):\n",
    "    train_loss, train_correct=train_epoch(base_line,train_loader,criterion,optimizer)\n",
    "    test_loss, test_correct=valid_epoch(base_line,valid_loader,criterion)\n",
    "    train_loss = train_loss / len(train_loader.sampler)\n",
    "    train_acc = train_correct / len(train_loader.sampler) * 100\n",
    "    test_loss = test_loss / len(valid_loader.sampler)\n",
    "    test_acc = test_correct / len(valid_loader.sampler) * 100\n",
    "    \n",
    "    print(\"Epoch:{}/{} AVG Training Loss:{:.3f} AVG Test Loss:{:.3f} AVG Training Acc {:.2f} % AVG Test Acc {:.2f} %\".format(epoch + 1,\n",
    "                                                                                                            epochs,\n",
    "                                                                                                            train_loss,\n",
    "                                                                                                            test_loss,\n",
    "                                                                                                            train_acc,\n",
    "                                                                                                            test_acc))\n",
    "    \n",
    "    early_stopping(-test_acc, base_line, metric_fc) # 현재 과적합 상황 추적\n",
    "    \n",
    "    if early_stopping.early_stop: # 조건 만족 시 조기 종료\n",
    "        break\n",
    "    history['train_loss'].append(train_loss)\n",
    "    history['test_loss'].append(test_loss)\n",
    "    history['train_acc'].append(train_acc)\n",
    "    history['test_acc'].append(test_acc)\n",
    "\n"
   ]
  },
  {
   "cell_type": "code",
   "execution_count": 135,
   "metadata": {},
   "outputs": [
    {
     "data": {
      "text/plain": [
       "<All keys matched successfully>"
      ]
     },
     "execution_count": 135,
     "metadata": {},
     "output_type": "execute_result"
    }
   ],
   "source": [
    "base_line.load_state_dict(torch.load('arcface_ckpt/model1checkpoint.pt'))\n",
    "metric_fc.load_state_dict(torch.load('arcface_ckpt/model2checkpoint.pt'))"
   ]
  },
  {
   "cell_type": "markdown",
   "metadata": {
    "id": "fyUnglUtTonR"
   },
   "source": [
    "# plotting"
   ]
  },
  {
   "cell_type": "code",
   "execution_count": 136,
   "metadata": {
    "id": "057KZBYjPM2o"
   },
   "outputs": [
    {
     "data": {
      "image/png": "[encoded data removed]",
      "text/plain": [
       "<Figure size 432x288 with 1 Axes>"
      ]
     },
     "metadata": {
      "needs_background": "light"
     },
     "output_type": "display_data"
    }
   ],
   "source": [
    "x_len = np.arange(len(history['train_loss']))\n",
    "plt.plot(x_len, history['train_loss'], marker='.', c='red', label=\"train-set Loss\")\n",
    "plt.plot(x_len, history['test_loss'], marker='.', c='blue', label=\"valid-set Loss\")\n",
    "\n",
    "plt.legend(loc='upper right')\n",
    "plt.grid()\n",
    "plt.xlabel('epoch')\n",
    "plt.ylabel('loss')\n",
    "plt.show()"
   ]
  },
  {
   "cell_type": "markdown",
   "metadata": {
    "id": "--Iz-r2VUKnN"
   },
   "source": [
    "# Confusion matrix"
   ]
  },
  {
   "cell_type": "code",
   "execution_count": 137,
   "metadata": {
    "id": "wVJ_TVBedNwL"
   },
   "outputs": [
    {
     "data": {
      "text/plain": [
       "<AxesSubplot:>"
      ]
     },
     "execution_count": 137,
     "metadata": {},
     "output_type": "execute_result"
    },
    {
     "data": {
      "image/png": "[encoded data removed]",
      "text/plain": [
       "<Figure size 864x504 with 2 Axes>"
      ]
     },
     "metadata": {
      "needs_background": "light"
     },
     "output_type": "display_data"
    }
   ],
   "source": [
    "y_pred = []\n",
    "y_true = []\n",
    "\n",
    "# iterate over test data\n",
    "with torch.no_grad():\n",
    "    for images, labels in valid_loader:\n",
    "        images = images.float().to(device)\n",
    "        labels = labels.to(device)\n",
    "        # labels = labels.float().reshape(images.size(0), 9).to(device)\n",
    "        embeded = base_line(images)\n",
    "        output = metric_fc(embeded,labels)\n",
    "        pred = output.argmax(axis = 1).detach().cpu().numpy()\n",
    "        y_pred.extend(pred) # Save Prediction\n",
    "        # labels = labels.argmax(axis = 1).detach().cpu().numpy()\n",
    "        y_true.extend(labels.detach().cpu().numpy()) # Save Truth\n",
    "\n",
    "# constant for classes\n",
    "classes = ('Center', 'Donut', 'Edge-Loc', 'Edge-Ring', 'Loc', 'Random', 'Scratch','Near-full' ,'None')\n",
    "# Build confusion matrix\n",
    "cf_matrix = confusion_matrix(y_true, y_pred)\n",
    "df_cm = pd.DataFrame(cf_matrix, index = [i for i in classes],\n",
    "                    columns = [i for i in classes])\n",
    "for i in range(len(df_cm)):\n",
    "    n_sample = df_cm.iloc[i].sum()\n",
    "    df_cm.iloc[i] = df_cm.iloc[i]/n_sample\n",
    "plt.figure(figsize = (12,7))\n",
    "sns.heatmap(df_cm, annot=True)\n",
    "\n"
   ]
  },
  {
   "cell_type": "code",
   "execution_count": 138,
   "metadata": {
    "id": "rSGYKN-UP7ke"
   },
   "outputs": [
    {
     "name": "stdout",
     "output_type": "stream",
     "text": [
      "              precision    recall  f1-score   support\n",
      "\n",
      "      Center       0.99      1.00      0.99       150\n",
      "       Donut       0.99      1.00      1.00       150\n",
      "    Edge-Loc       0.94      0.95      0.95       150\n",
      "   Edge-Ring       0.97      0.97      0.97       150\n",
      "         Loc       0.98      0.98      0.98       150\n",
      "      Random       0.90      0.86      0.88        22\n",
      "     Scratch       0.99      0.97      0.98       150\n",
      "   Near-full       0.99      0.98      0.99       129\n",
      "        none       1.00      1.00      1.00       150\n",
      "\n",
      "    accuracy                           0.98      1201\n",
      "   macro avg       0.97      0.97      0.97      1201\n",
      "weighted avg       0.98      0.98      0.98      1201\n",
      "\n"
     ]
    }
   ],
   "source": [
    "from sklearn.metrics import classification_report\n",
    "print(classification_report(y_true, y_pred, target_names=  ('Center', 'Donut', 'Edge-Loc', 'Edge-Ring', 'Loc', 'Random', 'Scratch', 'Near-full', 'none')))\n",
    "# mapping_type={'Center':0,'Donut':1,'Edge-Loc':2,'Edge-Ring':3,'Loc':4,'Random':5,'Scratch':6,'Near-full':7,'none':8}"
   ]
  },
  {
   "cell_type": "code",
   "execution_count": 139,
   "metadata": {
    "id": "c0ReC1Aw7DTO"
   },
   "outputs": [
    {
     "data": {
      "text/plain": [
       "<AxesSubplot:>"
      ]
     },
     "execution_count": 139,
     "metadata": {},
     "output_type": "execute_result"
    },
    {
     "data": {
      "image/png": "[encoded data removed]",
      "text/plain": [
       "<Figure size 864x504 with 2 Axes>"
      ]
     },
     "metadata": {
      "needs_background": "light"
     },
     "output_type": "display_data"
    }
   ],
   "source": [
    "y_pred = []\n",
    "y_true = []\n",
    "\n",
    "# iterate over test data\n",
    "with torch.no_grad():\n",
    "    for images, labels in test_loader:\n",
    "        images = images.float().to(device)\n",
    "        labels = labels.to(device)\n",
    "        # labels = labels.float().reshape(images.size(0), 9).to(device)\n",
    "        embeded = base_line(images)\n",
    "        output = metric_fc(embeded,labels)\n",
    "        pred = output.argmax(axis = 1).detach().cpu().numpy()\n",
    "        y_pred.extend(pred) # Save Prediction\n",
    "        # labels = labels.argmax(axis = 1).detach().cpu().numpy()\n",
    "        y_true.extend(labels.detach().cpu().numpy()) # Save Truth\n",
    "\n",
    "# constant for classes\n",
    "classes = ('Center', 'Donut', 'Edge-Loc', 'Edge-Ring', 'Loc', 'Random', 'Scratch','Near-full' ,'None')\n",
    "# Build confusion matrix\n",
    "cf_matrix = confusion_matrix(y_true, y_pred)\n",
    "df_cm = pd.DataFrame(cf_matrix, index = [i for i in classes],\n",
    "                    columns = [i for i in classes])\n",
    "for i in range(len(df_cm)):\n",
    "    n_sample = df_cm.iloc[i].sum()\n",
    "    df_cm.iloc[i] = df_cm.iloc[i]/n_sample\n",
    "plt.figure(figsize = (12,7))\n",
    "sns.heatmap(df_cm, annot=True)\n",
    "\n"
   ]
  },
  {
   "cell_type": "code",
   "execution_count": 140,
   "metadata": {
    "id": "fY-jgHGw7HBa"
   },
   "outputs": [
    {
     "name": "stdout",
     "output_type": "stream",
     "text": [
      "              precision    recall  f1-score   support\n",
      "\n",
      "      Center       0.98      0.98      0.98       250\n",
      "       Donut       0.99      1.00      0.99       250\n",
      "    Edge-Loc       0.91      0.87      0.89       250\n",
      "   Edge-Ring       0.93      0.94      0.93       250\n",
      "         Loc       0.99      0.96      0.98       250\n",
      "      Random       0.97      0.79      0.87        38\n",
      "     Scratch       0.93      0.97      0.95       250\n",
      "   Near-full       0.97      1.00      0.98       218\n",
      "        None       1.00      1.00      1.00       250\n",
      "\n",
      "    accuracy                           0.96      2006\n",
      "   macro avg       0.96      0.95      0.95      2006\n",
      "weighted avg       0.96      0.96      0.96      2006\n",
      "\n"
     ]
    }
   ],
   "source": [
    "from sklearn.metrics import classification_report\n",
    "print(classification_report(y_true, y_pred, target_names=  ('Center', 'Donut', 'Edge-Loc', 'Edge-Ring', 'Loc', 'Random', 'Scratch','Near-full' ,'None')))"
   ]
  },
  {
   "cell_type": "code",
   "execution_count": 141,
   "metadata": {
    "id": "0ZqyMvqjXJ9q"
   },
   "outputs": [],
   "source": [
    "class_embedding = metric_fc.weight\n",
    "\n",
    "cos = nn.CosineSimilarity(dim=1, eps=1e-6)\n",
    "\n",
    "similarity = []\n",
    "y_true = []\n",
    "y_pred = []\n",
    "with torch.no_grad():\n",
    "    for images, labels in valid_loader:\n",
    "        images = images.float().to(device)\n",
    "        labels = labels.to(device)\n",
    "        # labels = labels.float().reshape(images.size(0), 9).to(device)\n",
    "        embeded = base_line(images)\n",
    "        output = metric_fc(embeded,labels)\n",
    "        pred = output.argmax(axis = 1).detach().cpu().numpy()\n",
    "        y_pred.extend(pred) # Save Prediction\n",
    "        cos_sim = cos(embeded, class_embedding[labels])\n",
    "        # labels = labels.argmax(axis = 1).detach().cpu().numpy()\n",
    "        similarity.extend(cos_sim) # Save Prediction\n",
    "        # labels = labels.argmax(axis = 1).detach().cpu().numpy()\n",
    "        y_true.extend(labels.detach().cpu().numpy()) # Save Truth\n",
    "\n",
    "y_pred = np.array(y_pred)\n",
    "y_true = np.array(y_true)"
   ]
  },
  {
   "cell_type": "code",
   "execution_count": 142,
   "metadata": {
    "id": "dyftj9ha7d8g"
   },
   "outputs": [
    {
     "data": {
      "text/plain": [
       "[tensor(0.5177, device='cuda:0'),\n",
       " tensor(0.3425, device='cuda:0'),\n",
       " tensor(0.4816, device='cuda:0'),\n",
       " tensor(0.4246, device='cuda:0'),\n",
       " tensor(0.4251, device='cuda:0'),\n",
       " tensor(0.3315, device='cuda:0'),\n",
       " tensor(0.4065, device='cuda:0'),\n",
       " tensor(0.4830, device='cuda:0'),\n",
       " tensor(0.0862, device='cuda:0'),\n",
       " tensor(0.5029, device='cuda:0'),\n",
       " tensor(0.4394, device='cuda:0'),\n",
       " tensor(0.3780, device='cuda:0'),\n",
       " tensor(0.6485, device='cuda:0'),\n",
       " tensor(0.4691, device='cuda:0'),\n",
       " tensor(0.2825, device='cuda:0'),\n",
       " tensor(0.6068, device='cuda:0'),\n",
       " tensor(-0.0406, device='cuda:0'),\n",
       " tensor(0.5755, device='cuda:0'),\n",
       " tensor(0.4770, device='cuda:0'),\n",
       " tensor(0.5200, device='cuda:0'),\n",
       " tensor(0.5905, device='cuda:0'),\n",
       " tensor(0.5982, device='cuda:0'),\n",
       " tensor(0.6259, device='cuda:0'),\n",
       " tensor(0.5503, device='cuda:0')]"
      ]
     },
     "execution_count": 142,
     "metadata": {},
     "output_type": "execute_result"
    }
   ],
   "source": [
    "wrong_idx = np.where(y_pred != y_true)[0]\n",
    "\n",
    "low_sim = []\n",
    "for item in wrong_idx:\n",
    "    low_sim.append(similarity[item])\n",
    "\n",
    "low_sim"
   ]
  },
  {
   "cell_type": "code",
   "execution_count": 143,
   "metadata": {
    "id": "tc1IAeN37yr1"
   },
   "outputs": [],
   "source": [
    "match_idx = np.where(y_pred == y_true)[0]\n",
    "\n",
    "high_sim = []\n",
    "for item in match_idx:\n",
    "    high_sim.append(similarity[item].item())\n",
    "\n",
    "high_sim = np.array(high_sim)"
   ]
  },
  {
   "cell_type": "code",
   "execution_count": 144,
   "metadata": {
    "id": "qkZpt3DJ-nST"
   },
   "outputs": [
    {
     "data": {
      "text/plain": [
       "0.7643607112443741"
      ]
     },
     "execution_count": 144,
     "metadata": {},
     "output_type": "execute_result"
    }
   ],
   "source": [
    "high_sim.mean()"
   ]
  },
  {
   "cell_type": "code",
   "execution_count": null,
   "metadata": {},
   "outputs": [],
   "source": []
  }
 ],
 "metadata": {
  "accelerator": "GPU",
  "colab": {
   "collapsed_sections": [],
   "machine_shape": "hm",
   "private_outputs": true,
   "provenance": []
  },
  "gpuClass": "standard",
  "kernelspec": {
   "display_name": "Python 3 (ipykernel)",
   "language": "python",
   "name": "python3"
  },
  "language_info": {
   "codemirror_mode": {
    "name": "ipython",
    "version": 3
   },
   "file_extension": ".py",
   "mimetype": "text/x-python",
   "name": "python",
   "nbconvert_exporter": "python",
   "pygments_lexer": "ipython3",
   "version": "3.8.13"
  }
 },
 "nbformat": 4,
 "nbformat_minor": 4
}
